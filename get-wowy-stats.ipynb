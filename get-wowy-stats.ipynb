{
 "cells": [
  {
   "cell_type": "markdown",
   "id": "5136f0ef-c5dd-4f2c-80b5-c5601d4b3dc6",
   "metadata": {},
   "source": [
    "This endpoint can be used to get team, opponent, lineup or player stats for a given set of players on/off the floor as well as other query criteria"
   ]
  },
  {
   "cell_type": "code",
   "execution_count": 1,
   "id": "fd510077-13ea-4328-808d-20345f91921d",
   "metadata": {},
   "outputs": [],
   "source": [
    "import requests"
   ]
  },
  {
   "cell_type": "markdown",
   "id": "65abc694-7efc-458b-a1c6-96020ed4a9e5",
   "metadata": {},
   "source": [
    "### Lineups featuring Kyle Lowry and any four bench players in the 2015-16 and 2016-17 seasons"
   ]
  },
  {
   "cell_type": "code",
   "execution_count": 2,
   "id": "7fdc2cdb-7bd8-436b-824e-a53c0230ff3d",
   "metadata": {},
   "outputs": [],
   "source": [
    "wowy_url = \"https://api.pbpstats.com/get-wowy-stats/nba\"\n",
    "wowy_params = {\n",
    "    \"0Exactly1Started\": \"200768\", # Kyle Lowry started the game\n",
    "    \"1Exactly1OnFloor\": \"200768\", # Kyle Lowry on the floor\n",
    "    \"TeamId\": \"1610612761\", # Toronto Raptors\n",
    "    \"Season\": \"2015-16,2016-17\",\n",
    "    \"SeasonType\": \"Regular Season\",\n",
    "    \"Type\": \"Team\", # Team stats\n",
    "    \"StarterState\": \"1v5,1v4,1v3,1v2,1v1,1v0\" # One starter for the Raptors vs any number for the opponent\n",
    "}\n",
    "wowy_response = requests.get(wowy_url, params=wowy_params)\n",
    "wowy = wowy_response.json()\n",
    "team_stats = wowy[\"single_row_table_data\"]\n",
    "lineup_stats = wowy[\"multi_row_table_data\"]"
   ]
  },
  {
   "cell_type": "code",
   "execution_count": 3,
   "id": "ad9ae7ae-1013-4e26-96f2-868104ab6ff1",
   "metadata": {},
   "outputs": [
    {
     "name": "stdout",
     "output_type": "stream",
     "text": [
      "The Raptors outscored opponents by 208 points in 711 minutes\n"
     ]
    }
   ],
   "source": [
    "print(f\"The Raptors outscored opponents by {team_stats['PlusMinus']} points in {team_stats['Minutes']} minutes\")"
   ]
  },
  {
   "cell_type": "markdown",
   "id": "65a3818c-2283-431d-aceb-bf198f4ef74e",
   "metadata": {},
   "source": [
    "To get the most used lineup:"
   ]
  },
  {
   "cell_type": "code",
   "execution_count": 4,
   "id": "0d7b68a5-0bc7-4e49-9756-46b5dc306f39",
   "metadata": {},
   "outputs": [
    {
     "name": "stdout",
     "output_type": "stream",
     "text": [
      "The most used lineup was Kyle Lowry, Patrick Patterson, Bismack Biyombo, Cory Joseph, Terrence Ross\n",
      "This lineup outscored opponents by 91 points in 277 minutes\n"
     ]
    }
   ],
   "source": [
    "sorted_by_seconds_played = sorted(lineup_stats, key=lambda d: d['SecondsPlayed'], reverse=True)\n",
    "most_used_lineup = sorted_by_seconds_played[0]\n",
    "print(f\"The most used lineup was {most_used_lineup['Name']}\")\n",
    "print(f\"This lineup outscored opponents by {most_used_lineup['PlusMinus']} points in {most_used_lineup['Minutes']} minutes\")"
   ]
  },
  {
   "cell_type": "markdown",
   "id": "ec615056-4e61-42ee-8c43-2a477626459f",
   "metadata": {},
   "source": [
    "### Player stats for lineups with Stephen Curry on the floor in the 2015-16 season"
   ]
  },
  {
   "cell_type": "code",
   "execution_count": 5,
   "id": "2814b0f9-28dd-43b6-a8c6-839475f98e41",
   "metadata": {},
   "outputs": [],
   "source": [
    "wowy_url = \"https://api.pbpstats.com/get-wowy-stats/nba\"\n",
    "wowy_params = {\n",
    "    \"0Exactly1OnFloor\": \"201939\", # Stephen Curry on the floor\n",
    "    \"TeamId\": \"1610612744\", # Golden State Warriors\n",
    "    \"Season\": \"2015-16\",\n",
    "    \"SeasonType\": \"Regular Season\",\n",
    "    \"Type\": \"Player\" # Player stats\n",
    "}\n",
    "wowy_response = requests.get(wowy_url, params=wowy_params)\n",
    "wowy = wowy_response.json()\n",
    "player_stats = wowy[\"multi_row_table_data\"]"
   ]
  },
  {
   "cell_type": "markdown",
   "id": "b0e49a9a-0445-4ff2-a194-89c1639620b6",
   "metadata": {},
   "source": [
    "To get each players 3pt% with Curry on the floor"
   ]
  },
  {
   "cell_type": "code",
   "execution_count": 6,
   "id": "91b53a7f-4fa0-4152-a516-de8cfb570e37",
   "metadata": {},
   "outputs": [
    {
     "name": "stdout",
     "output_type": "stream",
     "text": [
      "Andrew Bogut - 1 / 1 (1.0)\n",
      "Jason Thompson - 0 / 0 (0)\n",
      "Brandon Rush - 41 / 89 (0.461)\n",
      "Stephen Curry - 402 / 886 (0.454)\n",
      "Klay Thompson - 216 / 509 (0.424)\n",
      "Harrison Barnes - 58 / 154 (0.377)\n",
      "Andre Iguodala - 31 / 81 (0.383)\n",
      "Draymond Green - 81 / 213 (0.38)\n",
      "Shaun Livingston - 1 / 4 (0.25)\n",
      "Ian Clark - 8 / 21 (0.381)\n",
      "Leandro Barbosa - 18 / 46 (0.391)\n",
      "James Michael McAdoo - 0 / 0 (0)\n",
      "Kevon Looney - 0 / 0 (0)\n",
      "Marreese Speights - 5 / 14 (0.357)\n",
      "Anderson Varejao - 0 / 0 (0)\n",
      "Festus Ezeli - 0 / 0 (0)\n"
     ]
    }
   ],
   "source": [
    "for player in player_stats:\n",
    "    fg3m = player.get('FG3M', 0)  # If value for stat is 0 it won't be in dict, so use the get method to set value to 0 if key is not found\n",
    "    fg3a = player.get('FG3A', 0)\n",
    "    fg3pct = round(fg3m/fg3a, 3) if fg3a > 0 else 0\n",
    "    print(f\"{player['Name']} - {fg3m} / {fg3a} ({fg3pct})\")"
   ]
  },
  {
   "cell_type": "markdown",
   "id": "a2e4c575-cdca-4137-b933-7b85603af7a6",
   "metadata": {},
   "source": [
    "### Dallas Mavericks team stats with Luka Doncic on the floor in 2021-22 playoffs vs the Suns"
   ]
  },
  {
   "cell_type": "code",
   "execution_count": 7,
   "id": "723314ce-6f42-400c-94e8-927f97aa4280",
   "metadata": {},
   "outputs": [],
   "source": [
    "wowy_url = \"https://api.pbpstats.com/get-wowy-stats/nba\"\n",
    "wowy_params = {\n",
    "    \"0Exactly1OnFloor\": \"1629029\", # Luka Doncic on the floor\n",
    "    \"TeamId\": \"1610612742\", # Dallas\n",
    "    \"Season\": \"2021-22\",\n",
    "    \"SeasonType\": \"Playoffs\",\n",
    "    \"Type\": \"Team\", # Team stats\n",
    "    \"Opponent\": \"1610612756\"\n",
    "}\n",
    "wowy_response = requests.get(wowy_url, params=wowy_params)\n",
    "wowy = wowy_response.json()\n",
    "team_stats = wowy[\"single_row_table_data\"]\n",
    "lineup_stats = wowy[\"multi_row_table_data\"]"
   ]
  },
  {
   "cell_type": "markdown",
   "id": "086b8c66-8271-4c09-b035-2980c1d4b0d9",
   "metadata": {},
   "source": [
    "### Golden State Warriors team stats with at least one of Stephen Curry, Draymond Green and Klay Thompson on the floor vs the other three conference finalists"
   ]
  },
  {
   "cell_type": "code",
   "execution_count": 8,
   "id": "c5ca20b5-b22d-4100-b94f-a137ef61f4e5",
   "metadata": {},
   "outputs": [],
   "source": [
    "wowy_url = \"https://api.pbpstats.com/get-wowy-stats/nba\"\n",
    "wowy_params = {\n",
    "    \"0GreaterThan1OnFloor\": \"202691,203110,201939\", # At least one of Stephen Curry, Draymond Green and Klay Thompson on the floor\n",
    "    \"TeamId\": \"1610612744\", # Golden State\n",
    "    \"Season\": \"2021-22\",\n",
    "    \"SeasonType\": \"Regular Season\",\n",
    "    \"Type\": \"Team\", # Team stats\n",
    "    \"Opponent\": \"1610612742,1610612738,1610612748\" # Dallas, Boston and Miami\n",
    "}\n",
    "wowy_response = requests.get(wowy_url, params=wowy_params)\n",
    "wowy = wowy_response.json()\n",
    "team_stats = wowy[\"single_row_table_data\"]\n",
    "lineup_stats = wowy[\"multi_row_table_data\"]"
   ]
  },
  {
   "cell_type": "markdown",
   "id": "13b418f5-1128-4a5a-a95c-d26544efe051",
   "metadata": {},
   "source": [
    "### Opponent stats with Rudy Gobert on the floor in the 4th quarter in high and very high leverage situations"
   ]
  },
  {
   "cell_type": "code",
   "execution_count": 9,
   "id": "047dbc58-4c2f-488d-8989-110598caac68",
   "metadata": {},
   "outputs": [],
   "source": [
    "wowy_url = \"https://api.pbpstats.com/get-wowy-stats/nba\"\n",
    "wowy_params = {\n",
    "    \"0Exactly1OffFloor\": \"203497\", # Rudy Gobert off the floor\n",
    "    \"TeamId\": \"1610612762\", # Utah\n",
    "    \"Season\": \"2021-22\",\n",
    "    \"SeasonType\": \"Regular Season\",\n",
    "    \"Type\": \"Opponent\", # Opponent stats\n",
    "    \"Period\": \"4\",\n",
    "    \"Leverage\": \"High,VeryHigh\" # high and very high leverage\n",
    "}\n",
    "wowy_response = requests.get(wowy_url, params=wowy_params)\n",
    "wowy = wowy_response.json()\n",
    "opponent_stats = wowy[\"single_row_table_data\"]\n",
    "lineup_opponent_stats = wowy[\"multi_row_table_data\"]"
   ]
  },
  {
   "cell_type": "markdown",
   "id": "678070af-e7bb-4f85-80d0-f081a76531d9",
   "metadata": {},
   "source": [
    "### Boston Celtics stats vs Miami Heat in 2021-22 playoffs with both Jayson Tatum and Jimmy Butler on the floor"
   ]
  },
  {
   "cell_type": "code",
   "execution_count": 10,
   "id": "72eeb2d2-3efa-4361-a078-21d3f93269a0",
   "metadata": {},
   "outputs": [],
   "source": [
    "wowy_url = \"https://api.pbpstats.com/get-wowy-stats/nba\"\n",
    "wowy_params = {\n",
    "    \"0Exactly1OnFloor\": \"1628369\", # Jayson Tatum on the floor\n",
    "    \"TeamId\": \"1610612738\", # Boston\n",
    "    \"Season\": \"2021-22\",\n",
    "    \"SeasonType\": \"Playoffs\",\n",
    "    \"Type\": \"Team\", # Team stats\n",
    "    \"Opponent\": \"1610612748\", # vs Miami\n",
    "    \"OpponentExactly1OnFloor\": \"202710\" # Jimmy Bulter on the floor\n",
    "}\n",
    "wowy_response = requests.get(wowy_url, params=wowy_params)\n",
    "wowy = wowy_response.json()\n",
    "team_stats = wowy[\"single_row_table_data\"]\n",
    "lineup_stats = wowy[\"multi_row_table_data\"]"
   ]
  },
  {
   "cell_type": "markdown",
   "id": "2e349bf5-2fb9-447a-aafa-cdcaf899b72d",
   "metadata": {},
   "source": [
    "### Kevin Durant on the floor in 2021-22 in the final 2 mintues of the 4th quarter and OT with the score within 3 points"
   ]
  },
  {
   "cell_type": "code",
   "execution_count": 11,
   "id": "e622759f-f7a7-4f85-8fc9-cefd94adc873",
   "metadata": {},
   "outputs": [],
   "source": [
    "wowy_url = \"https://api.pbpstats.com/get-wowy-stats/nba\"\n",
    "wowy_params = {\n",
    "    \"0Exactly1OnFloor\": \"201142\", # Kevin Durant on the floor\n",
    "    \"TeamId\": \"1610612751\", # Brooklyn\n",
    "    \"Season\": \"2021-22\",\n",
    "    \"SeasonType\": \"Regular Season\",\n",
    "    \"Type\": \"Team\", # Team stats\n",
    "    \"FromMargin\": -3,\n",
    "    \"ToMargin\": 3,\n",
    "    \"FromTime\": 120,\n",
    "    \"ToTime\": 0,\n",
    "    \"Period\": \"4_OT\"\n",
    "}\n",
    "wowy_response = requests.get(wowy_url, params=wowy_params)\n",
    "wowy = wowy_response.json()\n",
    "team_stats = wowy[\"single_row_table_data\"]\n",
    "lineup_stats = wowy[\"multi_row_table_data\"]"
   ]
  },
  {
   "cell_type": "markdown",
   "id": "7a3fcb69-722a-417e-b725-36cb980277e7",
   "metadata": {},
   "source": [
    "### Sue Bird on the floor since 2009 in the regular season"
   ]
  },
  {
   "cell_type": "code",
   "execution_count": 12,
   "id": "e076bb28-3764-46e0-85a1-b7b550b2728a",
   "metadata": {},
   "outputs": [],
   "source": [
    "wowy_url = \"https://api.pbpstats.com/get-wowy-stats/wnba\"\n",
    "wowy_params = {\n",
    "    \"0Exactly1OnFloor\": \"100720\", # Sue Bird on the floor\n",
    "    \"TeamId\": \"1611661328\", # Seattle\n",
    "    \"Season\": \"2022,2021,2020,2019,2018,2017,2016,2015,2014,2013,2012,2011,2010,2009\",\n",
    "    \"SeasonType\": \"Regular Season\",\n",
    "    \"Type\": \"Team\" # Team stats\n",
    "}\n",
    "wowy_response = requests.get(wowy_url, params=wowy_params)\n",
    "wowy = wowy_response.json()\n",
    "team_stats = wowy[\"single_row_table_data\"]\n",
    "lineup_stats = wowy[\"multi_row_table_data\"]"
   ]
  },
  {
   "cell_type": "code",
   "execution_count": null,
   "id": "ba2d6d08-9b05-450b-a675-47ae028ec33f",
   "metadata": {},
   "outputs": [],
   "source": []
  }
 ],
 "metadata": {
  "kernelspec": {
   "display_name": "playground",
   "language": "python",
   "name": "playground"
  },
  "language_info": {
   "codemirror_mode": {
    "name": "ipython",
    "version": 3
   },
   "file_extension": ".py",
   "mimetype": "text/x-python",
   "name": "python",
   "nbconvert_exporter": "python",
   "pygments_lexer": "ipython3",
   "version": "3.8.9"
  }
 },
 "nbformat": 4,
 "nbformat_minor": 5
}
