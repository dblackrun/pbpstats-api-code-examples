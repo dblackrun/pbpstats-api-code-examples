{
 "cells": [
  {
   "cell_type": "markdown",
   "id": "4d881bd9-b1b9-4995-b782-fcb9a9c3f91a",
   "metadata": {},
   "source": [
    "This endpoint can be used to get the the percentage of possessions a team was up/down by x points"
   ]
  },
  {
   "cell_type": "code",
   "execution_count": 1,
   "id": "24be03da-2410-46a6-b876-3613ff31ef85",
   "metadata": {},
   "outputs": [],
   "source": [
    "import requests"
   ]
  },
  {
   "cell_type": "markdown",
   "id": "372c4a97-11dc-4514-8f34-c2b742277c47",
   "metadata": {},
   "source": [
    "### 2015-16 Warriors"
   ]
  },
  {
   "cell_type": "code",
   "execution_count": 2,
   "id": "569f0bcb-c2a2-4f22-90ea-be3f927671b2",
   "metadata": {},
   "outputs": [
    {
     "data": {
      "text/plain": [
       "[{'margin': '-20+', 'frequency': 0.012161751292186074},\n",
       " {'margin': '-19', 'frequency': 0.002128306476132563},\n",
       " {'margin': '-18', 'frequency': 0.0023715415019762848},\n",
       " {'margin': '-17', 'frequency': 0.0033444816053511705},\n",
       " {'margin': '-16', 'frequency': 0.0018242626938279112},\n",
       " {'margin': '-15', 'frequency': 0.0037701429005776834},\n",
       " {'margin': '-14', 'frequency': 0.0030404378230465185},\n",
       " {'margin': '-13', 'frequency': 0.0030404378230465185},\n",
       " {'margin': '-12', 'frequency': 0.005229553055640012},\n",
       " {'margin': '-11', 'frequency': 0.006749771967163271},\n",
       " {'margin': '-10', 'frequency': 0.008999695956217696},\n",
       " {'margin': '-9', 'frequency': 0.007905138339920948},\n",
       " {'margin': '-8', 'frequency': 0.011614472484037701},\n",
       " {'margin': '-7', 'frequency': 0.012040133779264214},\n",
       " {'margin': '-6', 'frequency': 0.016783216783216783},\n",
       " {'margin': '-5', 'frequency': 0.02097902097902098},\n",
       " {'margin': '-4', 'frequency': 0.020796594709638187},\n",
       " {'margin': '-3', 'frequency': 0.030404378230465188},\n",
       " {'margin': '-2', 'frequency': 0.033870477348738215},\n",
       " {'margin': '-1', 'frequency': 0.036910915171784735},\n",
       " {'margin': '0', 'frequency': 0.052599574338704776},\n",
       " {'margin': '1', 'frequency': 0.039890544238370323},\n",
       " {'margin': '2', 'frequency': 0.04445120097294011},\n",
       " {'margin': '3', 'frequency': 0.041045910611128},\n",
       " {'margin': '4', 'frequency': 0.03928245667376102},\n",
       " {'margin': '5', 'frequency': 0.033566433566433566},\n",
       " {'margin': '6', 'frequency': 0.040863484341745214},\n",
       " {'margin': '7', 'frequency': 0.03192459714198845},\n",
       " {'margin': '8', 'frequency': 0.03678929765886288},\n",
       " {'margin': '9', 'frequency': 0.03417452113104287},\n",
       " {'margin': '10', 'frequency': 0.03368805107935543},\n",
       " {'margin': '11', 'frequency': 0.03235025843721496},\n",
       " {'margin': '12', 'frequency': 0.028032836728488903},\n",
       " {'margin': '13', 'frequency': 0.03593797506840985},\n",
       " {'margin': '14', 'frequency': 0.02766798418972332},\n",
       " {'margin': '15', 'frequency': 0.027059896625114016},\n",
       " {'margin': '16', 'frequency': 0.027120705381574947},\n",
       " {'margin': '17', 'frequency': 0.019823654606263303},\n",
       " {'margin': '18', 'frequency': 0.01818181818181818},\n",
       " {'margin': '19', 'frequency': 0.017573730617208877},\n",
       " {'margin': '20+', 'frequency': 0.09401033748859836}]"
      ]
     },
     "execution_count": 2,
     "metadata": {},
     "output_type": "execute_result"
    }
   ],
   "source": [
    "url = \"https://api.pbpstats.com/get-score-margin-breakdown/nba\"\n",
    "params = {\n",
    "    \"TeamId\": \"1610612744\",\n",
    "    \"Season\": \"2015-16\",\n",
    "    \"SeasonType\": \"Regular Season\",\n",
    "    \"Period\": \"All\" # possible values: All, 1, 2, 3, 4, SecondHalf\n",
    "}\n",
    "response = requests.get(url, params=params)\n",
    "response_json = response.json()\n",
    "response_json[\"margins\"]"
   ]
  },
  {
   "cell_type": "code",
   "execution_count": null,
   "id": "26799ebc-886f-4a90-950b-47bba6c5664c",
   "metadata": {},
   "outputs": [],
   "source": []
  }
 ],
 "metadata": {
  "kernelspec": {
   "display_name": "playground",
   "language": "python",
   "name": "playground"
  },
  "language_info": {
   "codemirror_mode": {
    "name": "ipython",
    "version": 3
   },
   "file_extension": ".py",
   "mimetype": "text/x-python",
   "name": "python",
   "nbconvert_exporter": "python",
   "pygments_lexer": "ipython3",
   "version": "3.8.9"
  }
 },
 "nbformat": 4,
 "nbformat_minor": 5
}
