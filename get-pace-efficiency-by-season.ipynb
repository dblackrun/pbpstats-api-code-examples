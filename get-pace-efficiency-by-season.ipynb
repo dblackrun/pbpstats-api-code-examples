{
 "cells": [
  {
   "cell_type": "markdown",
   "id": "d3429512-af4b-489f-816c-67c43b5b1c68",
   "metadata": {},
   "source": [
    "This endpoint can be used to get the league average pace (seconds per possession) and efficiency (points per possession) for each season broken down by how the possession started"
   ]
  },
  {
   "cell_type": "code",
   "execution_count": 1,
   "id": "178fecdc-adb1-4635-8ec8-3894c9a431f0",
   "metadata": {},
   "outputs": [],
   "source": [
    "import requests"
   ]
  },
  {
   "cell_type": "markdown",
   "id": "daac6ac3-7204-41d9-af53-4067bdfb521c",
   "metadata": {},
   "source": [
    "### NBA"
   ]
  },
  {
   "cell_type": "code",
   "execution_count": 2,
   "id": "71c4d959-173b-4a60-9ec2-de56ca1e91d7",
   "metadata": {},
   "outputs": [
    {
     "data": {
      "text/plain": [
       "{'AllOffPoss': 237691,\n",
       " 'AllPoints': 259753,\n",
       " 'AllPointsPerPoss': 1.0928179863772713,\n",
       " 'AllSeconds': 3566400,\n",
       " 'AllSecondsPerPoss': 15.004354392888246,\n",
       " 'OffArc3MissOffPoss': 21862,\n",
       " 'OffArc3MissPoints': 23975,\n",
       " 'OffArc3MissPointsPerPoss': 1.0966517244533895,\n",
       " 'OffArc3MissSeconds': 274563,\n",
       " 'OffArc3MissSecondsPerPoss': 12.558915012350196,\n",
       " 'OffAtRimMissOffPoss': 10533,\n",
       " 'OffAtRimMissPoints': 11893,\n",
       " 'OffAtRimMissPointsPerPoss': 1.1291180100636096,\n",
       " 'OffAtRimMissSeconds': 113036,\n",
       " 'OffAtRimMissSecondsPerPoss': 10.7316054305516,\n",
       " 'OffCorner3MissOffPoss': 6529,\n",
       " 'OffCorner3MissPoints': 7356,\n",
       " 'OffCorner3MissPointsPerPoss': 1.126665645581253,\n",
       " 'OffCorner3MissSeconds': 80388,\n",
       " 'OffCorner3MissSecondsPerPoss': 12.312452136621229,\n",
       " 'OffDeadballOffPoss': 23516,\n",
       " 'OffDeadballPoints': 24838,\n",
       " 'OffDeadballPointsPerPoss': 1.0562170437149174,\n",
       " 'OffDeadballSeconds': 379034,\n",
       " 'OffDeadballSecondsPerPoss': 16.118132335431195,\n",
       " 'OffFTMakeOffPoss': 20974,\n",
       " 'OffFTMakePoints': 22087,\n",
       " 'OffFTMakePointsPerPoss': 1.0530657003909603,\n",
       " 'OffFTMakeSeconds': 340410,\n",
       " 'OffFTMakeSecondsPerPoss': 16.230094402593686,\n",
       " 'OffFTMissOffPoss': 5246,\n",
       " 'OffFTMissPoints': 5635,\n",
       " 'OffFTMissPointsPerPoss': 1.0741517346549752,\n",
       " 'OffFTMissSeconds': 85231,\n",
       " 'OffFTMissSecondsPerPoss': 16.246854746473502,\n",
       " 'OffLiveBallTurnoverOffPoss': 18361,\n",
       " 'OffLiveBallTurnoverPoints': 23229,\n",
       " 'OffLiveBallTurnoverPointsPerPoss': 1.265127171722673,\n",
       " 'OffLiveBallTurnoverSeconds': 170739,\n",
       " 'OffLiveBallTurnoverSecondsPerPoss': 9.299003322259136,\n",
       " 'OffMadeFGOffPoss': 80046,\n",
       " 'OffMadeFGPoints': 85466,\n",
       " 'OffMadeFGPointsPerPoss': 1.0677110661369713,\n",
       " 'OffMadeFGSeconds': 1434374,\n",
       " 'OffMadeFGSecondsPerPoss': 17.919371361467157,\n",
       " 'OffMidRangeMissOffPoss': 29074,\n",
       " 'OffMidRangeMissPoints': 31907,\n",
       " 'OffMidRangeMissPointsPerPoss': 1.0974410125885672,\n",
       " 'OffMidRangeMissSeconds': 357014,\n",
       " 'OffMidRangeMissSecondsPerPoss': 12.279493705716447,\n",
       " 'OffMissed2OffPoss': 39607,\n",
       " 'OffMissed2Points': 43800,\n",
       " 'OffMissed2PointsPerPoss': 1.1058651248516675,\n",
       " 'OffMissed2Seconds': 470050,\n",
       " 'OffMissed2SecondsPerPoss': 11.867851642386446,\n",
       " 'OffMissed3OffPoss': 28391,\n",
       " 'OffMissed3Points': 31331,\n",
       " 'OffMissed3PointsPerPoss': 1.1035539431509986,\n",
       " 'OffMissed3Seconds': 354951,\n",
       " 'OffMissed3SecondsPerPoss': 12.502236624282343,\n",
       " 'OffMissedFGOffPoss': 67998,\n",
       " 'OffMissedFGPoints': 75131,\n",
       " 'OffMissedFGPointsPerPoss': 1.104900144121886,\n",
       " 'OffMissedFGSeconds': 825001,\n",
       " 'OffMissedFGSecondsPerPoss': 12.13272449189682,\n",
       " 'OffTimeoutOffPoss': 15582,\n",
       " 'OffTimeoutPoints': 16325,\n",
       " 'OffTimeoutPointsPerPoss': 1.0476832242330896,\n",
       " 'OffTimeoutSeconds': 273984,\n",
       " 'OffTimeoutSecondsPerPoss': 17.583365421640355,\n",
       " 'season': '2016-17'}"
      ]
     },
     "execution_count": 2,
     "metadata": {},
     "output_type": "execute_result"
    }
   ],
   "source": [
    "url = \"https://api.pbpstats.com/get-pace-efficiency-by-season/nba\"\n",
    "params = {\n",
    "    \"SeasonType\": \"Regular Season\",\n",
    "}\n",
    "response = requests.get(url, params=params)\n",
    "response_json = response.json()\n",
    "response_json['results'][0]"
   ]
  },
  {
   "cell_type": "markdown",
   "id": "5f267a19-9dc7-4fae-9ec4-a9fc4cbe2d4a",
   "metadata": {},
   "source": [
    "### WNBA"
   ]
  },
  {
   "cell_type": "code",
   "execution_count": 3,
   "id": "6c3cb984-adf2-4e97-bce4-7e6806151a8a",
   "metadata": {},
   "outputs": [
    {
     "data": {
      "text/plain": [
       "{'AllOffPoss': 21184,\n",
       " 'AllPoints': 21928,\n",
       " 'AllPointsPerPoss': 1.0351208459214503,\n",
       " 'AllSeconds': 318000,\n",
       " 'AllSecondsPerPoss': 15.011329305135952,\n",
       " 'OffArc3MissOffPoss': 1946,\n",
       " 'OffArc3MissPoints': 2038,\n",
       " 'OffArc3MissPointsPerPoss': 1.0472764645426516,\n",
       " 'OffArc3MissSeconds': 22488,\n",
       " 'OffArc3MissSecondsPerPoss': 11.55601233299075,\n",
       " 'OffAtRimMissOffPoss': 580,\n",
       " 'OffAtRimMissPoints': 622,\n",
       " 'OffAtRimMissPointsPerPoss': 1.0724137931034483,\n",
       " 'OffAtRimMissSeconds': 6268,\n",
       " 'OffAtRimMissSecondsPerPoss': 10.806896551724138,\n",
       " 'OffCorner3MissOffPoss': 307,\n",
       " 'OffCorner3MissPoints': 330,\n",
       " 'OffCorner3MissPointsPerPoss': 1.0749185667752443,\n",
       " 'OffCorner3MissSeconds': 3501,\n",
       " 'OffCorner3MissSecondsPerPoss': 11.403908794788274,\n",
       " 'OffDeadballOffPoss': 2700,\n",
       " 'OffDeadballPoints': 2640,\n",
       " 'OffDeadballPointsPerPoss': 0.9777777777777777,\n",
       " 'OffDeadballSeconds': 46645,\n",
       " 'OffDeadballSecondsPerPoss': 17.275925925925925,\n",
       " 'OffFTMakeOffPoss': 1970,\n",
       " 'OffFTMakePoints': 2044,\n",
       " 'OffFTMakePointsPerPoss': 1.0375634517766497,\n",
       " 'OffFTMakeSeconds': 34229,\n",
       " 'OffFTMakeSecondsPerPoss': 17.375126903553298,\n",
       " 'OffFTMissOffPoss': 333,\n",
       " 'OffFTMissPoints': 349,\n",
       " 'OffFTMissPointsPerPoss': 1.048048048048048,\n",
       " 'OffFTMissSeconds': 5083,\n",
       " 'OffFTMissSecondsPerPoss': 15.264264264264265,\n",
       " 'OffLiveBallTurnoverOffPoss': 1976,\n",
       " 'OffLiveBallTurnoverPoints': 2442,\n",
       " 'OffLiveBallTurnoverPointsPerPoss': 1.23582995951417,\n",
       " 'OffLiveBallTurnoverSeconds': 18478,\n",
       " 'OffLiveBallTurnoverSecondsPerPoss': 9.351214574898785,\n",
       " 'OffMadeFGOffPoss': 6781,\n",
       " 'OffMadeFGPoints': 6822,\n",
       " 'OffMadeFGPointsPerPoss': 1.0060463058545936,\n",
       " 'OffMadeFGSeconds': 122369,\n",
       " 'OffMadeFGSecondsPerPoss': 18.045863441970212,\n",
       " 'OffMidRangeMissOffPoss': 2960,\n",
       " 'OffMidRangeMissPoints': 2999,\n",
       " 'OffMidRangeMissPointsPerPoss': 1.0131756756756756,\n",
       " 'OffMidRangeMissSeconds': 32882,\n",
       " 'OffMidRangeMissSecondsPerPoss': 11.108783783783784,\n",
       " 'OffMissed2OffPoss': 3540,\n",
       " 'OffMissed2Points': 3621,\n",
       " 'OffMissed2PointsPerPoss': 1.0228813559322034,\n",
       " 'OffMissed2Seconds': 39150,\n",
       " 'OffMissed2SecondsPerPoss': 11.059322033898304,\n",
       " 'OffMissed3OffPoss': 2253,\n",
       " 'OffMissed3Points': 2368,\n",
       " 'OffMissed3PointsPerPoss': 1.0510430537061695,\n",
       " 'OffMissed3Seconds': 25989,\n",
       " 'OffMissed3SecondsPerPoss': 11.535286284953395,\n",
       " 'OffMissedFGOffPoss': 5793,\n",
       " 'OffMissedFGPoints': 5989,\n",
       " 'OffMissedFGPointsPerPoss': 1.0338339375107888,\n",
       " 'OffMissedFGSeconds': 65139,\n",
       " 'OffMissedFGSecondsPerPoss': 11.244432936302434,\n",
       " 'OffTimeoutOffPoss': 1214,\n",
       " 'OffTimeoutPoints': 1198,\n",
       " 'OffTimeoutPointsPerPoss': 0.9868204283360791,\n",
       " 'OffTimeoutSeconds': 22116,\n",
       " 'OffTimeoutSecondsPerPoss': 18.217462932454694,\n",
       " 'season': '2020'}"
      ]
     },
     "execution_count": 3,
     "metadata": {},
     "output_type": "execute_result"
    }
   ],
   "source": [
    "url = \"https://api.pbpstats.com/get-pace-efficiency-by-season/wnba\"\n",
    "params = {\n",
    "    \"SeasonType\": \"Regular Season\",\n",
    "}\n",
    "response = requests.get(url, params=params)\n",
    "response_json = response.json()\n",
    "response_json['results'][0]"
   ]
  },
  {
   "cell_type": "code",
   "execution_count": null,
   "id": "d129d41a-b6b0-43de-ba12-f29d70139b82",
   "metadata": {},
   "outputs": [],
   "source": []
  }
 ],
 "metadata": {
  "kernelspec": {
   "display_name": "playground",
   "language": "python",
   "name": "playground"
  },
  "language_info": {
   "codemirror_mode": {
    "name": "ipython",
    "version": 3
   },
   "file_extension": ".py",
   "mimetype": "text/x-python",
   "name": "python",
   "nbconvert_exporter": "python",
   "pygments_lexer": "ipython3",
   "version": "3.8.9"
  }
 },
 "nbformat": 4,
 "nbformat_minor": 5
}
