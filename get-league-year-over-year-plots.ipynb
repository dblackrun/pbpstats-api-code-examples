{
 "cells": [
  {
   "cell_type": "markdown",
   "id": "f517d19a-bcfb-461d-ac6b-db91321eb911",
   "metadata": {},
   "source": [
    "The endpoint can be used to get year-over-year league averages for various stats"
   ]
  },
  {
   "cell_type": "code",
   "execution_count": 1,
   "id": "eec35838-c69a-4251-b121-fe875fb6e975",
   "metadata": {},
   "outputs": [],
   "source": [
    "import requests"
   ]
  },
  {
   "cell_type": "markdown",
   "id": "d42cd01f-bdf1-4294-9256-92b67b755bae",
   "metadata": {},
   "source": [
    "### NBA Points per 100 possessions and seconds per 100 possessions"
   ]
  },
  {
   "cell_type": "code",
   "execution_count": 2,
   "id": "a38be6b4-522b-4e7c-98a9-804f5653acb2",
   "metadata": {},
   "outputs": [
    {
     "data": {
      "text/plain": [
       "[{'season': '2000-01', 'left_value': 102.714, 'right_value': 15.731},\n",
       " {'season': '2001-02', 'left_value': 104.247, 'right_value': 15.832},\n",
       " {'season': '2002-03', 'left_value': 103.277, 'right_value': 15.77},\n",
       " {'season': '2003-04', 'left_value': 102.538, 'right_value': 15.921},\n",
       " {'season': '2004-05', 'left_value': 105.698, 'right_value': 15.781},\n",
       " {'season': '2005-06', 'left_value': 106.084, 'right_value': 15.884},\n",
       " {'season': '2006-07', 'left_value': 106.508, 'right_value': 15.674},\n",
       " {'season': '2007-08', 'left_value': 107.43, 'right_value': 15.579},\n",
       " {'season': '2008-09', 'left_value': 108.182, 'right_value': 15.698},\n",
       " {'season': '2009-10', 'left_value': 107.776, 'right_value': 15.558},\n",
       " {'season': '2010-11', 'left_value': 107.479, 'right_value': 15.669},\n",
       " {'season': '2011-12', 'left_value': 104.634, 'right_value': 15.78},\n",
       " {'season': '2012-13', 'left_value': 105.904, 'right_value': 15.659},\n",
       " {'season': '2013-14', 'left_value': 106.808, 'right_value': 15.35},\n",
       " {'season': '2014-15', 'left_value': 105.873, 'right_value': 15.367},\n",
       " {'season': '2015-16', 'left_value': 106.659, 'right_value': 15.072},\n",
       " {'season': '2016-17', 'left_value': 109.282, 'right_value': 15.004},\n",
       " {'season': '2017-18', 'left_value': 109.276, 'right_value': 14.885},\n",
       " {'season': '2018-19', 'left_value': 110.97, 'right_value': 14.465},\n",
       " {'season': '2019-20', 'left_value': 111.204, 'right_value': 14.429},\n",
       " {'season': '2020-21', 'left_value': 112.881, 'right_value': 14.588},\n",
       " {'season': '2021-22', 'left_value': 112.55, 'right_value': 14.735}]"
      ]
     },
     "execution_count": 2,
     "metadata": {},
     "output_type": "execute_result"
    }
   ],
   "source": [
    "url = \"https://api.pbpstats.com/get-league-year-over-year-plots/nba\"\n",
    "params = {\n",
    "    \"SeasonType\": \"Regular Season\",\n",
    "    \"LeftAxis\": \"PtsPer100Poss\",\n",
    "    \"RightAxis\": \"SecondsPerPoss\"\n",
    "}\n",
    "response = requests.get(url, params=params)\n",
    "response_json = response.json()\n",
    "response_json['results']"
   ]
  },
  {
   "cell_type": "markdown",
   "id": "d8e44cf9-e32e-4f80-b540-1fcad004a760",
   "metadata": {},
   "source": [
    "### WNBA Points per 100 possessions and seconds per 100 possessions"
   ]
  },
  {
   "cell_type": "code",
   "execution_count": 3,
   "id": "217a65b1-a9dd-4ff8-85df-0f0a97e3815a",
   "metadata": {},
   "outputs": [
    {
     "data": {
      "text/plain": [
       "[{'season': '2009', 'left_value': 99.718, 'right_value': 15.541},\n",
       " {'season': '2010', 'left_value': 101.799, 'right_value': 15.367},\n",
       " {'season': '2011', 'left_value': 100.191, 'right_value': 15.679},\n",
       " {'season': '2012', 'left_value': 100.051, 'right_value': 15.628},\n",
       " {'season': '2013', 'left_value': 98.459, 'right_value': 15.743},\n",
       " {'season': '2014', 'left_value': 100.201, 'right_value': 15.835},\n",
       " {'season': '2015', 'left_value': 99.105, 'right_value': 15.963},\n",
       " {'season': '2016', 'left_value': 104.192, 'right_value': 15.508},\n",
       " {'season': '2017', 'left_value': 103.491, 'right_value': 15.393},\n",
       " {'season': '2018', 'left_value': 104.742, 'right_value': 15.245},\n",
       " {'season': '2019', 'left_value': 100.222, 'right_value': 15.328},\n",
       " {'season': '2020', 'left_value': 103.512, 'right_value': 15.011},\n",
       " {'season': '2021', 'left_value': 101.798, 'right_value': 15.233},\n",
       " {'season': '2022', 'left_value': 101.746, 'right_value': 15.067}]"
      ]
     },
     "execution_count": 3,
     "metadata": {},
     "output_type": "execute_result"
    }
   ],
   "source": [
    "url = \"https://api.pbpstats.com/get-league-year-over-year-plots/wnba\"\n",
    "params = {\n",
    "    \"SeasonType\": \"Regular Season\",\n",
    "    \"LeftAxis\": \"PtsPer100Poss\",\n",
    "    \"RightAxis\": \"SecondsPerPoss\"\n",
    "}\n",
    "response = requests.get(url, params=params)\n",
    "response_json = response.json()\n",
    "response_json['results']"
   ]
  },
  {
   "cell_type": "markdown",
   "id": "1b9e66a7-c6dc-415d-aac0-74c72ca33632",
   "metadata": {},
   "source": [
    "#### Available stat key options"
   ]
  },
  {
   "cell_type": "code",
   "execution_count": 4,
   "id": "ecac6f85-c9da-48f3-829f-dec5f95a02b9",
   "metadata": {},
   "outputs": [],
   "source": [
    "stat_keys = [\n",
    "    \"PtsPer100Poss\", # Points Per 100 Possessions\n",
    "    \"SecondsPerPoss\", # Seconds Per Possession\n",
    "    \"FG3APct\", # 3 Point Rate\n",
    "    \"Fg3Pct\", # 3pt %\n",
    "    \"AtRimFrequency\", # At Rim Shot Frequency\n",
    "    \"AtRimAccuracy\", # At Rim FG%\n",
    "    \"AtRimPctAssisted\", # At Rim % Assisted\n",
    "    \"ShortMidRangeFrequency\", # Short Mid Range Shot Frequency\n",
    "    \"ShortMidRangeAccuracy\", # Short Mid Range FG%\n",
    "    \"ShortMidRangePctAssisted\", # Short Mid Range % Assisted\n",
    "    \"LongMidRangeFrequency\", # Long Mid Range Shot Frequency\n",
    "    \"LongMidRangeAccuracy\", # Long Mid Range FG%\n",
    "    \"LongMidRangePctAssisted\", # Long Mid % Assisted\n",
    "    \"Corner3Frequency\", # Corner 3 Shot Frequency\n",
    "    \"Corner3Accuracy\", # Corner 3 FG%\n",
    "    \"Corner3PctAssisted\", # Corner 3 % Assisted\n",
    "    \"Arc3Frequency\", # Above The Break 3 Shot Frequency\n",
    "    \"Arc3Accuracy\", # Above The Break 3 FG%\n",
    "    \"Arc3PctAssisted\", # Above The Break 3 % Assisted\n",
    "    \"LiveBallTurnoverPct\", # Live Ball TO%\n",
    "    \"EfgPct\", # eFG%\n",
    "    \"DefFTReboundPct\", # DReb% - Missed FTs\n",
    "    \"OffFTReboundPct\", # OReb% - Missed FTs\n",
    "    \"DefTwoPtReboundPct\", # DReb% - Missed 2s\n",
    "    \"OffTwoPtReboundPct\", # OReb% - Missed 2s\n",
    "    \"DefThreePtReboundPct\", # DReb% - Missed 3s\n",
    "    \"OffThreePtReboundPct\", # OReb% - Missed 3s\n",
    "    \"DefFGReboundPct\", # DReb% - Missed FGs\n",
    "    \"OffFGReboundPct\", # OReb% - Missed FGs\n",
    "    \"OffAtRimReboundPct\", # At Rim OReb%\n",
    "    \"OffShortMidRangeReboundPct\", # Short Mid-Range OReb%\n",
    "    \"OffLongMidRangeReboundPct\", # Long Mid-Range OReb%\n",
    "    \"OffArc3ReboundPct\", # Arc 3 OReb%\n",
    "    \"OffCorner3ReboundPct\", # Corner 3 OReb%\n",
    "    \"DefAtRimReboundPct\", # At Rim DReb%\n",
    "    \"DefShortMidRangeReboundPct\", # Short Mid-Range DReb%\n",
    "    \"DefLongMidRangeReboundPct\", # Long Mid-Range DReb%\n",
    "    \"DefArc3ReboundPct\", # Arc 3 DReb%\n",
    "    \"DefCorner3ReboundPct\", # Corner 3 DReb%\n",
    "    \"SecondChancePtsPer100PossSecondChance\", # Second Chance Efficiency\n",
    "    \"PenaltyPtsPer100PossPenalty\", # Penalty Efficiency\n",
    "    \"SecondChanceOffPossPer100Poss\", # Second Chance Possessions Per 100 Possessions\n",
    "    \"FirstChancePtsPer100Poss\", # First Chance Points Per 100 Possessions\n",
    "    \"SecondChancePtsPer100Poss\", # Second Chance Points Per 100 Possessions\n",
    "    \"PenaltyOffPossPer100Poss\", # Penalty Possessions Per 100 Possessions\n",
    "    \"Avg2ptShotDistance\", # Avg 2pt Shot Distance\n",
    "    \"Avg3ptShotDistance\" # Avg 3pt Shot Distance \n",
    "]"
   ]
  },
  {
   "cell_type": "code",
   "execution_count": null,
   "id": "6f0b7c14-8b55-47b8-ae53-bf4c6c772b4a",
   "metadata": {},
   "outputs": [],
   "source": []
  }
 ],
 "metadata": {
  "kernelspec": {
   "display_name": "playground",
   "language": "python",
   "name": "playground"
  },
  "language_info": {
   "codemirror_mode": {
    "name": "ipython",
    "version": 3
   },
   "file_extension": ".py",
   "mimetype": "text/x-python",
   "name": "python",
   "nbconvert_exporter": "python",
   "pygments_lexer": "ipython3",
   "version": "3.8.9"
  }
 },
 "nbformat": 4,
 "nbformat_minor": 5
}
