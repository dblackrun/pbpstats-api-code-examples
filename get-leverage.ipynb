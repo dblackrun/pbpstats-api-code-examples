{
 "cells": [
  {
   "cell_type": "markdown",
   "id": "aaec7154-db85-477b-bcc6-661ac08c60bd",
   "metadata": {},
   "source": [
    "This endpoint can be used to get the leverage for a given conditions"
   ]
  },
  {
   "cell_type": "code",
   "execution_count": 1,
   "id": "191e75da-11e7-43f3-b787-6f708fb63933",
   "metadata": {},
   "outputs": [],
   "source": [
    "import requests"
   ]
  },
  {
   "cell_type": "markdown",
   "id": "8677acbf-39e6-4a4f-94ce-e97dc56d110e",
   "metadata": {},
   "source": [
    "### NBA - Down 5, with the ball, possession starting with 60 seconds left and ending with 45 seconds left, and a 55% pregame win probability"
   ]
  },
  {
   "cell_type": "code",
   "execution_count": 2,
   "id": "bde0882a-58c7-426d-bc8e-cde73db20756",
   "metadata": {},
   "outputs": [
    {
     "data": {
      "text/plain": [
       "{'leverage': 0.06444948202563708}"
      ]
     },
     "execution_count": 2,
     "metadata": {},
     "output_type": "execute_result"
    }
   ],
   "source": [
    "league = \"nba\"\n",
    "margin = -5 # from the perspective of the team with the ball\n",
    "seconds_remaining = 60 # This is time remaining at the start of the possession\n",
    "pre_game_win_prob = 0.55 # 55% to win pregame\n",
    "end_of_possession_seconds_remaining = 45 # seconds remaining at end of possession\n",
    "\n",
    "url = f\"https://api.pbpstats.com/get-leverage/{league}/{margin}/{pre_game_win_prob}/{seconds_remaining}/{end_of_possession_seconds_remaining}\"\n",
    "\n",
    "response = requests.get(url)\n",
    "response_json = response.json()\n",
    "response_json"
   ]
  },
  {
   "cell_type": "code",
   "execution_count": null,
   "id": "3f182dde-414b-4211-93c5-4e2591e56543",
   "metadata": {},
   "outputs": [],
   "source": []
  }
 ],
 "metadata": {
  "kernelspec": {
   "display_name": "playground",
   "language": "python",
   "name": "playground"
  },
  "language_info": {
   "codemirror_mode": {
    "name": "ipython",
    "version": 3
   },
   "file_extension": ".py",
   "mimetype": "text/x-python",
   "name": "python",
   "nbconvert_exporter": "python",
   "pygments_lexer": "ipython3",
   "version": "3.8.9"
  }
 },
 "nbformat": 4,
 "nbformat_minor": 5
}
