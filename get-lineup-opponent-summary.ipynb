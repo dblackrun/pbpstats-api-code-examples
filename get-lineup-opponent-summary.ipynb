{
 "cells": [
  {
   "cell_type": "markdown",
   "id": "bcc4726e-f805-457e-9e9b-2f815d5899cc",
   "metadata": {},
   "source": [
    "This endpoint can be used to get lineup stats vs each lineup they have faced"
   ]
  },
  {
   "cell_type": "code",
   "execution_count": 1,
   "id": "8124e0f7-dabe-41a7-a4da-9545599595d7",
   "metadata": {},
   "outputs": [],
   "source": [
    "import requests"
   ]
  },
  {
   "cell_type": "markdown",
   "id": "f4c391b1-64ca-4a69-bae0-357a53677b55",
   "metadata": {},
   "source": [
    "### Al Horford, Marcus Smart, Jaylen Brown, Jayson Tatum, Robert Williams III"
   ]
  },
  {
   "cell_type": "code",
   "execution_count": 2,
   "id": "937cb87e-4010-4996-a2dc-76e1f0a28b4a",
   "metadata": {},
   "outputs": [
    {
     "data": {
      "text/plain": [
       "{'dreb_pct': 0.681818181818182,\n",
       " 'drebs': 15,\n",
       " 'drtg': 102.127659574468,\n",
       " 'efg': 0.520408163265306,\n",
       " 'fg2a': 31,\n",
       " 'fg2m': 18,\n",
       " 'fg2pct': 0.580645161290323,\n",
       " 'fg3a': 18,\n",
       " 'fg3m': 5,\n",
       " 'fg3pct': 0.277777777777778,\n",
       " 'ftr': 0.102040816326531,\n",
       " 'lineup': 'Terry Rozier, Miles Bridges, P.J. Washington, LaMelo Ball, Mason Plumlee',\n",
       " 'lineup_id': '1626179-1628970-1629023-1630163-203486',\n",
       " 'minutes': '23:36',\n",
       " 'net_rtg': 10.3723404255319,\n",
       " 'opp_efg': 0.55,\n",
       " 'opp_fg2a': 19,\n",
       " 'opp_fg2m': 10,\n",
       " 'opp_fg2pct': 0.526315789473684,\n",
       " 'opp_fg3a': 21,\n",
       " 'opp_fg3m': 8,\n",
       " 'opp_fg3pct': 0.380952380952381,\n",
       " 'opp_ftr': 0.15,\n",
       " 'opp_tov_pct': 0.234042553191489,\n",
       " 'opp_turnovers': 11,\n",
       " 'oreb_pct': 0.307692307692308,\n",
       " 'orebs': 8,\n",
       " 'ortg': 112.5,\n",
       " 'plus_minus': 6,\n",
       " 'pts_against': 48,\n",
       " 'pts_for': 54,\n",
       " 'seconds_played': 1416,\n",
       " 'team': 'CHA',\n",
       " 'total_possessions': 95,\n",
       " 'tov_pct': 0.104166666666667,\n",
       " 'turnovers': 5}"
      ]
     },
     "execution_count": 2,
     "metadata": {},
     "output_type": "execute_result"
    }
   ],
   "source": [
    "url = \"https://api.pbpstats.com/get-lineup-opponent-summary/nba\"\n",
    "params = {\n",
    "    \"LineupId\": \"1627759-1628369-1629057-201143-203935\", # lineup ids are hyphen separated player ids sorted as strings\n",
    "    \"TeamId\": \"1610612738\",\n",
    "    \"Season\": \"2021-22\",\n",
    "    \"SeasonType\": \"Regular Season\"\n",
    "}\n",
    "response = requests.get(url, params=params)\n",
    "response_json = response.json()\n",
    "response_json['results'][0]"
   ]
  },
  {
   "cell_type": "markdown",
   "id": "46af7966-2a7d-4f0d-bc9e-4bd8f54adaf9",
   "metadata": {},
   "source": [
    "### Chelsea Gray, Dearica Hamby, Kelsey Plum, A'ja Wilson, Jackie Young"
   ]
  },
  {
   "cell_type": "code",
   "execution_count": 3,
   "id": "074ddf28-f4be-433c-a4c5-376ed967a2f2",
   "metadata": {},
   "outputs": [
    {
     "data": {
      "text/plain": [
       "{'dreb_pct': 0.5625,\n",
       " 'drebs': 9,\n",
       " 'drtg': 132.142857142857,\n",
       " 'efg': 0.761904761904762,\n",
       " 'fg2a': 14,\n",
       " 'fg2m': 10,\n",
       " 'fg2pct': 0.714285714285714,\n",
       " 'fg3a': 7,\n",
       " 'fg3m': 4,\n",
       " 'fg3pct': 0.571428571428571,\n",
       " 'ftr': 0.571428571428571,\n",
       " 'lineup': 'Moriah Jefferson, Aerial Powers, Jessica Shepard, Sylvia Fowles, Kayla McBride',\n",
       " 'lineup_id': '1627669-1627672-1629491-201480-203825',\n",
       " 'minutes': '15:42',\n",
       " 'net_rtg': -2.14285714285714,\n",
       " 'opp_efg': 0.46551724137931,\n",
       " 'opp_fg2a': 23,\n",
       " 'opp_fg2m': 12,\n",
       " 'opp_fg2pct': 0.521739130434783,\n",
       " 'opp_fg3a': 6,\n",
       " 'opp_fg3m': 1,\n",
       " 'opp_fg3pct': 0.166666666666667,\n",
       " 'opp_ftr': 0.379310344827586,\n",
       " 'opp_tov_pct': 0.0357142857142857,\n",
       " 'opp_turnovers': 1,\n",
       " 'oreb_pct': 0.285714285714286,\n",
       " 'orebs': 2,\n",
       " 'ortg': 130.0,\n",
       " 'plus_minus': 2,\n",
       " 'pts_against': 37,\n",
       " 'pts_for': 39,\n",
       " 'seconds_played': 942,\n",
       " 'team': 'MIN',\n",
       " 'total_possessions': 58,\n",
       " 'tov_pct': 0.133333333333333,\n",
       " 'turnovers': 4}"
      ]
     },
     "execution_count": 3,
     "metadata": {},
     "output_type": "execute_result"
    }
   ],
   "source": [
    "url = \"https://api.pbpstats.com/get-lineup-opponent-summary/wnba\"\n",
    "params = {\n",
    "    \"LineupId\": \"1628276-1628932-1629498-203833-204324\", # lineup ids are hyphen separated player ids sorted as strings\n",
    "    \"TeamId\": \"1611661319\",\n",
    "    \"Season\": \"2022\",\n",
    "    \"SeasonType\": \"Regular Season\"\n",
    "}\n",
    "response = requests.get(url, params=params)\n",
    "response_json = response.json()\n",
    "response_json['results'][0]"
   ]
  },
  {
   "cell_type": "code",
   "execution_count": null,
   "id": "254e6902-fbcc-4b27-abf2-fdc08ad743cb",
   "metadata": {},
   "outputs": [],
   "source": []
  }
 ],
 "metadata": {
  "kernelspec": {
   "display_name": "playground",
   "language": "python",
   "name": "playground"
  },
  "language_info": {
   "codemirror_mode": {
    "name": "ipython",
    "version": 3
   },
   "file_extension": ".py",
   "mimetype": "text/x-python",
   "name": "python",
   "nbconvert_exporter": "python",
   "pygments_lexer": "ipython3",
   "version": "3.8.9"
  }
 },
 "nbformat": 4,
 "nbformat_minor": 5
}
