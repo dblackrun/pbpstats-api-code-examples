{
 "cells": [
  {
   "cell_type": "markdown",
   "id": "0810d32a-4835-4680-8675-f801ba40b0f1",
   "metadata": {},
   "source": [
    "This endpoint can be used to get a team's four factors stats with a player on and off the floor"
   ]
  },
  {
   "cell_type": "code",
   "execution_count": 1,
   "id": "9fbd3b26-bd96-49cf-92bd-3df696322692",
   "metadata": {},
   "outputs": [],
   "source": [
    "import requests"
   ]
  },
  {
   "cell_type": "markdown",
   "id": "d4b04c25-5a67-415d-8aa9-2d191cb53dc0",
   "metadata": {},
   "source": [
    "### Stephen Curry"
   ]
  },
  {
   "cell_type": "code",
   "execution_count": 2,
   "id": "4732fbd9-5817-4d06-ae38-5687c725cbce",
   "metadata": {},
   "outputs": [
    {
     "data": {
      "text/plain": [
       "{'offense_results': [{'On': 0.5680137999014293,\n",
       "   'Off': 0.529663810151615,\n",
       "   'stat': 'eFG%'},\n",
       "  {'On': 0.2578558225508318, 'Off': 0.24407582938388625, 'stat': 'OReb%'},\n",
       "  {'On': 0.22695909314933466, 'Off': 0.24522083058668426, 'stat': 'FTr'},\n",
       "  {'On': 0.15394708069101246, 'Off': 0.14821222606689735, 'stat': 'TOV%'}],\n",
       " 'defense_results': [{'On': 0.5001244090569793,\n",
       "   'Off': 0.5199351701782821,\n",
       "   'stat': 'eFG%'},\n",
       "  {'On': 0.25564550489987214, 'Off': 0.23860438942037143, 'stat': 'OReb%'},\n",
       "  {'On': 0.25255038566807664, 'Off': 0.28038897893030795, 'stat': 'FTr'},\n",
       "  {'On': 0.15474613686534217, 'Off': 0.138912610304583, 'stat': 'TOV%'}],\n",
       " 'minutes_on': 2211,\n",
       " 'minutes_off': 1737}"
      ]
     },
     "execution_count": 2,
     "metadata": {},
     "output_type": "execute_result"
    }
   ],
   "source": [
    "url = \"https://api.pbpstats.com/get-four-factor-on-off/nba\"\n",
    "params = {\n",
    "    \"Season\": \"2021-22\",\n",
    "    \"SeasonType\": \"Regular Season\",\n",
    "    \"TeamId\": \"1610612744\",\n",
    "    \"PlayerId\": \"201939\"\n",
    "}\n",
    "response = requests.get(url, params=params)\n",
    "response_json = response.json()\n",
    "response_json"
   ]
  },
  {
   "cell_type": "markdown",
   "id": "4da88036-039e-4002-b4bc-a7d6e822865c",
   "metadata": {},
   "source": [
    "### Sue Bird"
   ]
  },
  {
   "cell_type": "code",
   "execution_count": 3,
   "id": "b6328345-dba8-4704-964a-da95399f9bd1",
   "metadata": {},
   "outputs": [
    {
     "data": {
      "text/plain": [
       "{'offense_results': [{'On': 0.46366782006920415,\n",
       "   'Off': 0.44575471698113206,\n",
       "   'stat': 'eFG%'},\n",
       "  {'On': 0.21839080459770116, 'Off': 0.2932330827067669, 'stat': 'OReb%'},\n",
       "  {'On': 0.19377162629757785, 'Off': 0.27358490566037735, 'stat': 'FTr'},\n",
       "  {'On': 0.17964071856287425, 'Off': 0.1336206896551724, 'stat': 'TOV%'}],\n",
       " 'defense_results': [{'On': 0.5324909747292419,\n",
       "   'Off': 0.4444444444444444,\n",
       "   'stat': 'eFG%'},\n",
       "  {'On': 0.26206896551724135, 'Off': 0.2857142857142857, 'stat': 'OReb%'},\n",
       "  {'On': 0.16967509025270758, 'Off': 0.2474747474747475, 'stat': 'FTr'},\n",
       "  {'On': 0.21646341463414634, 'Off': 0.2301255230125523, 'stat': 'TOV%'}],\n",
       " 'minutes_on': 161,\n",
       " 'minutes_off': 124}"
      ]
     },
     "execution_count": 3,
     "metadata": {},
     "output_type": "execute_result"
    }
   ],
   "source": [
    "url = \"https://api.pbpstats.com/get-four-factor-on-off/wnba\"\n",
    "params = {\n",
    "    \"Season\": \"2022\",\n",
    "    \"SeasonType\": \"Regular Season\",\n",
    "    \"TeamId\": \"1611661328\",\n",
    "    \"PlayerId\": \"100720\"\n",
    "}\n",
    "response = requests.get(url, params=params)\n",
    "response_json = response.json()\n",
    "response_json"
   ]
  },
  {
   "cell_type": "code",
   "execution_count": null,
   "id": "95991f27-702d-4e69-ad98-c79a2b1653ef",
   "metadata": {},
   "outputs": [],
   "source": []
  }
 ],
 "metadata": {
  "kernelspec": {
   "display_name": "playground",
   "language": "python",
   "name": "playground"
  },
  "language_info": {
   "codemirror_mode": {
    "name": "ipython",
    "version": 3
   },
   "file_extension": ".py",
   "mimetype": "text/x-python",
   "name": "python",
   "nbconvert_exporter": "python",
   "pygments_lexer": "ipython3",
   "version": "3.8.9"
  }
 },
 "nbformat": 4,
 "nbformat_minor": 5
}
