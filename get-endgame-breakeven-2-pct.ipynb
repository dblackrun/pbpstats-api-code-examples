{
 "cells": [
  {
   "cell_type": "markdown",
   "id": "ba8c58cb-2671-42ae-9a70-404a976f94b1",
   "metadata": {},
   "source": [
    "This endpoint can be used to get the breakeven 2pt percentage needed for a 2pt shot to be better than a 3pt shot for a given percentage"
   ]
  },
  {
   "cell_type": "code",
   "execution_count": 1,
   "id": "5d3577ce-2630-4a3c-8ffd-70c03b02b585",
   "metadata": {},
   "outputs": [],
   "source": [
    "import requests"
   ]
  },
  {
   "cell_type": "markdown",
   "id": "f0874acf-8a37-48e1-8ee8-557c795fffeb",
   "metadata": {},
   "source": [
    "### NBA - down 3 with 20 seconds left and a 30% 3pt shot"
   ]
  },
  {
   "cell_type": "code",
   "execution_count": 2,
   "id": "b1b27804-b1fd-4c21-bd07-8de61fbd4ca1",
   "metadata": {},
   "outputs": [
    {
     "data": {
      "text/plain": [
       "{'breakeven2_pct': 55}"
      ]
     },
     "execution_count": 2,
     "metadata": {},
     "output_type": "execute_result"
    }
   ],
   "source": [
    "league = \"nba\"\n",
    "margin = -3 # from the perspective of the team with the ball\n",
    "seconds_remaining = 20 # This is time remaining after the shot is made or rebounded\n",
    "three_point_pct = 30\n",
    "\n",
    "url = f\"https://api.pbpstats.com/get-endgame-breakeven-2-pct/{league}/{margin}/{seconds_remaining}/{three_point_pct}\"\n",
    "\n",
    "response = requests.get(url)\n",
    "response_json = response.json()\n",
    "response_json"
   ]
  },
  {
   "cell_type": "markdown",
   "id": "a77401a7-3a3a-402f-9176-fa6de1e035d2",
   "metadata": {},
   "source": [
    "A 55% 2pt shot is equivalent to a 30% 3pt shot in terms of the impact on your win probability"
   ]
  },
  {
   "cell_type": "code",
   "execution_count": null,
   "id": "2ff0477a-60b5-479c-87cd-08ddc21a0a25",
   "metadata": {},
   "outputs": [],
   "source": []
  }
 ],
 "metadata": {
  "kernelspec": {
   "display_name": "playground",
   "language": "python",
   "name": "playground"
  },
  "language_info": {
   "codemirror_mode": {
    "name": "ipython",
    "version": 3
   },
   "file_extension": ".py",
   "mimetype": "text/x-python",
   "name": "python",
   "nbconvert_exporter": "python",
   "pygments_lexer": "ipython3",
   "version": "3.8.9"
  }
 },
 "nbformat": 4,
 "nbformat_minor": 5
}
