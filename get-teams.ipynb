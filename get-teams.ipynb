{
 "cells": [
  {
   "cell_type": "markdown",
   "id": "1fff86ce-d95f-4964-a05a-1ef3c24bb89b",
   "metadata": {},
   "source": [
    "The endpoint can be used to get a list of all teams for the current season for a league"
   ]
  },
  {
   "cell_type": "code",
   "execution_count": 1,
   "id": "8bc56247-7f9a-4dc5-9640-50f947038698",
   "metadata": {},
   "outputs": [],
   "source": [
    "import requests"
   ]
  },
  {
   "cell_type": "markdown",
   "id": "3853ad02-d474-49a3-80aa-2cf45248ee94",
   "metadata": {},
   "source": [
    "### NBA"
   ]
  },
  {
   "cell_type": "code",
   "execution_count": 2,
   "id": "ebea3afe-2d90-4cb7-9f4e-9f2aca95c288",
   "metadata": {},
   "outputs": [
    {
     "data": {
      "text/plain": [
       "[{'id': '1610612737', 'text': 'ATL'},\n",
       " {'id': '1610612751', 'text': 'BKN'},\n",
       " {'id': '1610612738', 'text': 'BOS'},\n",
       " {'id': '1610612766', 'text': 'CHA'},\n",
       " {'id': '1610612741', 'text': 'CHI'},\n",
       " {'id': '1610612739', 'text': 'CLE'},\n",
       " {'id': '1610612742', 'text': 'DAL'},\n",
       " {'id': '1610612743', 'text': 'DEN'},\n",
       " {'id': '1610612765', 'text': 'DET'},\n",
       " {'id': '1610612744', 'text': 'GSW'},\n",
       " {'id': '1610612745', 'text': 'HOU'},\n",
       " {'id': '1610612754', 'text': 'IND'},\n",
       " {'id': '1610612746', 'text': 'LAC'},\n",
       " {'id': '1610612747', 'text': 'LAL'},\n",
       " {'id': '1610612763', 'text': 'MEM'},\n",
       " {'id': '1610612748', 'text': 'MIA'},\n",
       " {'id': '1610612749', 'text': 'MIL'},\n",
       " {'id': '1610612750', 'text': 'MIN'},\n",
       " {'id': '1610612740', 'text': 'NOP'},\n",
       " {'id': '1610612752', 'text': 'NYK'},\n",
       " {'id': '1610612760', 'text': 'OKC'},\n",
       " {'id': '1610612753', 'text': 'ORL'},\n",
       " {'id': '1610612755', 'text': 'PHI'},\n",
       " {'id': '1610612756', 'text': 'PHX'},\n",
       " {'id': '1610612757', 'text': 'POR'},\n",
       " {'id': '1610612758', 'text': 'SAC'},\n",
       " {'id': '1610612759', 'text': 'SAS'},\n",
       " {'id': '1610612761', 'text': 'TOR'},\n",
       " {'id': '1610612762', 'text': 'UTA'},\n",
       " {'id': '1610612764', 'text': 'WAS'}]"
      ]
     },
     "execution_count": 2,
     "metadata": {},
     "output_type": "execute_result"
    }
   ],
   "source": [
    "teams_response = requests.get(\"https://api.pbpstats.com/get-teams/nba\")\n",
    "teams = teams_response.json()\n",
    "teams[\"teams\"]"
   ]
  },
  {
   "cell_type": "markdown",
   "id": "e8d68524-2286-44f5-af91-fa578488f8cc",
   "metadata": {},
   "source": [
    "### WNBA"
   ]
  },
  {
   "cell_type": "code",
   "execution_count": 3,
   "id": "feb8c962-78a2-4c3a-b6e7-7fe08f5d4d45",
   "metadata": {},
   "outputs": [
    {
     "data": {
      "text/plain": [
       "[{'id': '1611661330', 'text': 'ATL'},\n",
       " {'id': '1611661329', 'text': 'CHI'},\n",
       " {'id': '1611661323', 'text': 'CON'},\n",
       " {'id': '1611661321', 'text': 'DAL'},\n",
       " {'id': '1611661325', 'text': 'IND'},\n",
       " {'id': '1611661320', 'text': 'LAS'},\n",
       " {'id': '1611661319', 'text': 'LVA'},\n",
       " {'id': '1611661324', 'text': 'MIN'},\n",
       " {'id': '1611661313', 'text': 'NYL'},\n",
       " {'id': '1611661317', 'text': 'PHO'},\n",
       " {'id': '1611661328', 'text': 'SEA'},\n",
       " {'id': '1611661322', 'text': 'WAS'}]"
      ]
     },
     "execution_count": 3,
     "metadata": {},
     "output_type": "execute_result"
    }
   ],
   "source": [
    "teams_response = requests.get(\"https://api.pbpstats.com/get-teams/wnba\")\n",
    "teams = teams_response.json()\n",
    "teams[\"teams\"]"
   ]
  },
  {
   "cell_type": "code",
   "execution_count": null,
   "id": "92c9b73e-df1f-46d7-87cf-8369e1f0209e",
   "metadata": {},
   "outputs": [],
   "source": []
  }
 ],
 "metadata": {
  "kernelspec": {
   "display_name": "playground",
   "language": "python",
   "name": "playground"
  },
  "language_info": {
   "codemirror_mode": {
    "name": "ipython",
    "version": 3
   },
   "file_extension": ".py",
   "mimetype": "text/x-python",
   "name": "python",
   "nbconvert_exporter": "python",
   "pygments_lexer": "ipython3",
   "version": "3.8.9"
  }
 },
 "nbformat": 4,
 "nbformat_minor": 5
}
