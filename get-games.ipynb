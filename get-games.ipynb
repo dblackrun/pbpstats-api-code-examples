{
 "cells": [
  {
   "cell_type": "markdown",
   "id": "0b192f8d-8044-4e90-93f3-d24360b0b39c",
   "metadata": {},
   "source": [
    "This endpoint can be used to get all games, with some basic game data, for a league, season and season type"
   ]
  },
  {
   "cell_type": "code",
   "execution_count": 1,
   "id": "1db25c44-3101-41a9-a0b4-ce1408363b34",
   "metadata": {},
   "outputs": [],
   "source": [
    "import requests"
   ]
  },
  {
   "cell_type": "markdown",
   "id": "7753004e-d14a-4c7e-b09a-0370bfe3f1bb",
   "metadata": {},
   "source": [
    "### NBA - Regular season"
   ]
  },
  {
   "cell_type": "code",
   "execution_count": 2,
   "id": "f09ec5f7-67bd-4976-8de8-778c8323ac89",
   "metadata": {},
   "outputs": [
    {
     "data": {
      "text/plain": [
       "{'GameId': '0022100902',\n",
       " 'Date': '2022-02-25',\n",
       " 'HomeTeamId': '1610612756',\n",
       " 'AwayTeamId': '1610612740',\n",
       " 'HomePoints': 102,\n",
       " 'AwayPoints': 117,\n",
       " 'HomePossessions': 98,\n",
       " 'AwayPossessions': 98,\n",
       " 'HomeTeamAbbreviation': 'PHX',\n",
       " 'AwayTeamAbbreviation': 'NOP'}"
      ]
     },
     "execution_count": 2,
     "metadata": {},
     "output_type": "execute_result"
    }
   ],
   "source": [
    "games_url = \"https://api.pbpstats.com/get-games/nba\"\n",
    "games_params = {\n",
    "    \"Season\": \"2021-22\",\n",
    "    \"SeasonType\": \"Regular Season\"\n",
    "}\n",
    "games_response = requests.get(games_url, params=games_params)\n",
    "games = games_response.json()\n",
    "games[\"results\"][0]"
   ]
  },
  {
   "cell_type": "markdown",
   "id": "ecfea5eb-74f2-4363-9c36-c314621e9670",
   "metadata": {},
   "source": [
    "### NBA - Playoffs"
   ]
  },
  {
   "cell_type": "code",
   "execution_count": 3,
   "id": "3114126c-2387-4784-b091-7f8e129851d5",
   "metadata": {},
   "outputs": [
    {
     "data": {
      "text/plain": [
       "{'GameId': '0042100124',\n",
       " 'Date': '2022-04-24',\n",
       " 'HomeTeamId': '1610612741',\n",
       " 'AwayTeamId': '1610612749',\n",
       " 'HomePoints': 95,\n",
       " 'AwayPoints': 119,\n",
       " 'HomePossessions': 100,\n",
       " 'AwayPossessions': 100,\n",
       " 'HomeTeamAbbreviation': 'CHI',\n",
       " 'AwayTeamAbbreviation': 'MIL'}"
      ]
     },
     "execution_count": 3,
     "metadata": {},
     "output_type": "execute_result"
    }
   ],
   "source": [
    "games_url = \"https://api.pbpstats.com/get-games/nba\"\n",
    "games_params = {\n",
    "    \"Season\": \"2021-22\",\n",
    "    \"SeasonType\": \"Playoffs\"\n",
    "}\n",
    "games_response = requests.get(games_url, params=games_params)\n",
    "games = games_response.json()\n",
    "games[\"results\"][0]"
   ]
  },
  {
   "cell_type": "markdown",
   "id": "93a65eb0-4be1-4531-b473-73d3b4204051",
   "metadata": {},
   "source": [
    "### NBA - Play in"
   ]
  },
  {
   "cell_type": "code",
   "execution_count": 4,
   "id": "9553739c-510e-41db-9609-82513e9131db",
   "metadata": {},
   "outputs": [
    {
     "data": {
      "text/plain": [
       "{'GameId': '0052100101',\n",
       " 'Date': '2022-04-12',\n",
       " 'HomeTeamId': '1610612751',\n",
       " 'AwayTeamId': '1610612739',\n",
       " 'HomePoints': 115,\n",
       " 'AwayPoints': 108,\n",
       " 'HomePossessions': 96,\n",
       " 'AwayPossessions': 96,\n",
       " 'HomeTeamAbbreviation': 'BKN',\n",
       " 'AwayTeamAbbreviation': 'CLE'}"
      ]
     },
     "execution_count": 4,
     "metadata": {},
     "output_type": "execute_result"
    }
   ],
   "source": [
    "games_url = \"https://api.pbpstats.com/get-games/nba\"\n",
    "games_params = {\n",
    "    \"Season\": \"2021-22\",\n",
    "    \"SeasonType\": \"PlayIn\"\n",
    "}\n",
    "games_response = requests.get(games_url, params=games_params)\n",
    "games = games_response.json()\n",
    "games[\"results\"][0]"
   ]
  },
  {
   "cell_type": "markdown",
   "id": "fbb25fe0-236e-4d46-8790-380a7597ebf4",
   "metadata": {},
   "source": [
    "### NBA - Any season type"
   ]
  },
  {
   "cell_type": "code",
   "execution_count": 5,
   "id": "cf68cfa6-d5c4-480a-aa34-160146b3a1de",
   "metadata": {},
   "outputs": [
    {
     "data": {
      "text/plain": [
       "{'GameId': '0022100902',\n",
       " 'Date': '2022-02-25',\n",
       " 'HomeTeamId': '1610612756',\n",
       " 'AwayTeamId': '1610612740',\n",
       " 'HomePoints': 102,\n",
       " 'AwayPoints': 117,\n",
       " 'HomePossessions': 98,\n",
       " 'AwayPossessions': 98,\n",
       " 'HomeTeamAbbreviation': 'PHX',\n",
       " 'AwayTeamAbbreviation': 'NOP'}"
      ]
     },
     "execution_count": 5,
     "metadata": {},
     "output_type": "execute_result"
    }
   ],
   "source": [
    "games_url = \"https://api.pbpstats.com/get-games/nba\"\n",
    "games_params = {\n",
    "    \"Season\": \"2021-22\",\n",
    "    \"SeasonType\": \"All\"\n",
    "}\n",
    "games_response = requests.get(games_url, params=games_params)\n",
    "games = games_response.json()\n",
    "games[\"results\"][0]"
   ]
  },
  {
   "cell_type": "markdown",
   "id": "386baaaa-c868-49a9-89bc-a07c9332d888",
   "metadata": {},
   "source": [
    "### NBA - Regular season for multiple seasons"
   ]
  },
  {
   "cell_type": "code",
   "execution_count": 6,
   "id": "ae098d08-a395-4915-b8a0-9820c9b39d51",
   "metadata": {},
   "outputs": [
    {
     "data": {
      "text/plain": [
       "{'GameId': '0022100902',\n",
       " 'Date': '2022-02-25',\n",
       " 'HomeTeamId': '1610612756',\n",
       " 'AwayTeamId': '1610612740',\n",
       " 'HomePoints': 102,\n",
       " 'AwayPoints': 117,\n",
       " 'HomePossessions': 98,\n",
       " 'AwayPossessions': 98,\n",
       " 'HomeTeamAbbreviation': 'PHX',\n",
       " 'AwayTeamAbbreviation': 'NOP'}"
      ]
     },
     "execution_count": 6,
     "metadata": {},
     "output_type": "execute_result"
    }
   ],
   "source": [
    "games_url = \"https://api.pbpstats.com/get-games/nba\"\n",
    "games_params = {\n",
    "    \"Season\": \"2021-22,2020-21\",\n",
    "    \"SeasonType\": \"Regular Season\"\n",
    "}\n",
    "games_response = requests.get(games_url, params=games_params)\n",
    "games = games_response.json()\n",
    "games[\"results\"][0]"
   ]
  },
  {
   "cell_type": "markdown",
   "id": "291a193b-5d26-4145-a935-e0404950762b",
   "metadata": {},
   "source": [
    "### WNBA - Regular season"
   ]
  },
  {
   "cell_type": "code",
   "execution_count": 7,
   "id": "06cb71b6-9c6d-47b5-b71b-fe4c9dc4c923",
   "metadata": {},
   "outputs": [
    {
     "data": {
      "text/plain": [
       "{'GameId': '1022200001',\n",
       " 'Date': '2022-05-06',\n",
       " 'HomeTeamId': '1611661322',\n",
       " 'AwayTeamId': '1611661325',\n",
       " 'HomePoints': 84,\n",
       " 'AwayPoints': 70,\n",
       " 'HomePossessions': 78,\n",
       " 'AwayPossessions': 76,\n",
       " 'HomeTeamAbbreviation': 'WAS',\n",
       " 'AwayTeamAbbreviation': 'IND'}"
      ]
     },
     "execution_count": 7,
     "metadata": {},
     "output_type": "execute_result"
    }
   ],
   "source": [
    "games_url = \"https://api.pbpstats.com/get-games/wnba\"\n",
    "games_params = {\n",
    "    \"Season\": \"2022\",\n",
    "    \"SeasonType\": \"Regular Season\"\n",
    "}\n",
    "games_response = requests.get(games_url, params=games_params)\n",
    "games = games_response.json()\n",
    "games[\"results\"][0]"
   ]
  },
  {
   "cell_type": "markdown",
   "id": "dc7c0eea-02ff-4afd-b6b1-0b3e5e173824",
   "metadata": {},
   "source": [
    "### WNBA - Playoffs"
   ]
  },
  {
   "cell_type": "code",
   "execution_count": 8,
   "id": "5ce2d9e9-932b-4450-b85f-ae31c09d177b",
   "metadata": {},
   "outputs": [
    {
     "data": {
      "text/plain": [
       "{'GameId': '1042100111',\n",
       " 'Date': '2021-09-23',\n",
       " 'HomeTeamId': '1611661329',\n",
       " 'AwayTeamId': '1611661321',\n",
       " 'HomePoints': 81,\n",
       " 'AwayPoints': 64,\n",
       " 'HomePossessions': 76,\n",
       " 'AwayPossessions': 76,\n",
       " 'HomeTeamAbbreviation': 'CHI',\n",
       " 'AwayTeamAbbreviation': 'DAL'}"
      ]
     },
     "execution_count": 8,
     "metadata": {},
     "output_type": "execute_result"
    }
   ],
   "source": [
    "games_url = \"https://api.pbpstats.com/get-games/wnba\"\n",
    "games_params = {\n",
    "    \"Season\": \"2021\",\n",
    "    \"SeasonType\": \"Playoffs\"\n",
    "}\n",
    "games_response = requests.get(games_url, params=games_params)\n",
    "games = games_response.json()\n",
    "games[\"results\"][0]"
   ]
  },
  {
   "cell_type": "markdown",
   "id": "6b83802d-d17c-4367-a3cf-6f931ad80d5e",
   "metadata": {},
   "source": [
    "### WNBA - Any season type"
   ]
  },
  {
   "cell_type": "code",
   "execution_count": 9,
   "id": "42c043a3-0e10-4cd4-bf70-821b315f38fa",
   "metadata": {},
   "outputs": [
    {
     "data": {
      "text/plain": [
       "{'GameId': '1022100174',\n",
       " 'Date': '2021-09-10',\n",
       " 'HomeTeamId': '1611661324',\n",
       " 'AwayTeamId': '1611661325',\n",
       " 'HomePoints': 89,\n",
       " 'AwayPoints': 72,\n",
       " 'HomePossessions': 77,\n",
       " 'AwayPossessions': 77,\n",
       " 'HomeTeamAbbreviation': 'MIN',\n",
       " 'AwayTeamAbbreviation': 'IND'}"
      ]
     },
     "execution_count": 9,
     "metadata": {},
     "output_type": "execute_result"
    }
   ],
   "source": [
    "games_url = \"https://api.pbpstats.com/get-games/wnba\"\n",
    "games_params = {\n",
    "    \"Season\": \"2021\",\n",
    "    \"SeasonType\": \"All\"\n",
    "}\n",
    "games_response = requests.get(games_url, params=games_params)\n",
    "games = games_response.json()\n",
    "games[\"results\"][0]"
   ]
  },
  {
   "cell_type": "markdown",
   "id": "58845c99-032e-42f0-93bf-a0a58b8e82b9",
   "metadata": {},
   "source": [
    "### WNBA - Regular season for multiple seasons"
   ]
  },
  {
   "cell_type": "code",
   "execution_count": 10,
   "id": "ed470666-9d23-4f42-80dd-94d921e17229",
   "metadata": {},
   "outputs": [
    {
     "data": {
      "text/plain": [
       "{'GameId': '1022200001',\n",
       " 'Date': '2022-05-06',\n",
       " 'HomeTeamId': '1611661322',\n",
       " 'AwayTeamId': '1611661325',\n",
       " 'HomePoints': 84,\n",
       " 'AwayPoints': 70,\n",
       " 'HomePossessions': 78,\n",
       " 'AwayPossessions': 76,\n",
       " 'HomeTeamAbbreviation': 'WAS',\n",
       " 'AwayTeamAbbreviation': 'IND'}"
      ]
     },
     "execution_count": 10,
     "metadata": {},
     "output_type": "execute_result"
    }
   ],
   "source": [
    "games_url = \"https://api.pbpstats.com/get-games/wnba\"\n",
    "games_params = {\n",
    "    \"Season\": \"2022,2021\",\n",
    "    \"SeasonType\": \"Regular Season\"\n",
    "}\n",
    "games_response = requests.get(games_url, params=games_params)\n",
    "games = games_response.json()\n",
    "games[\"results\"][0]"
   ]
  },
  {
   "cell_type": "code",
   "execution_count": null,
   "id": "435ee0f6-b0ab-4d69-9c45-e9000f2c6303",
   "metadata": {},
   "outputs": [],
   "source": []
  }
 ],
 "metadata": {
  "kernelspec": {
   "display_name": "playground",
   "language": "python",
   "name": "playground"
  },
  "language_info": {
   "codemirror_mode": {
    "name": "ipython",
    "version": 3
   },
   "file_extension": ".py",
   "mimetype": "text/x-python",
   "name": "python",
   "nbconvert_exporter": "python",
   "pygments_lexer": "ipython3",
   "version": "3.8.9"
  }
 },
 "nbformat": 4,
 "nbformat_minor": 5
}
