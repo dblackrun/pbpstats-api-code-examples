{
 "cells": [
  {
   "cell_type": "markdown",
   "id": "ba43f25b-6ba1-48fc-9553-90197b03897c",
   "metadata": {},
   "source": [
    "This endpoint can be used to get assist counts for all passer to scorer assist combinations"
   ]
  },
  {
   "cell_type": "code",
   "execution_count": 1,
   "id": "47ec0e83-e6a0-461f-acab-ce96c3235664",
   "metadata": {},
   "outputs": [],
   "source": [
    "import requests"
   ]
  },
  {
   "cell_type": "markdown",
   "id": "cf81879c-9499-46e3-a146-6955982e6562",
   "metadata": {},
   "source": [
    "### NBA"
   ]
  },
  {
   "cell_type": "code",
   "execution_count": 2,
   "id": "1330ff35-0488-4377-8564-e2ecb017aec2",
   "metadata": {},
   "outputs": [
    {
     "data": {
      "text/plain": [
       "{'arc3': 0,\n",
       " 'assist_player': 'Trae Young',\n",
       " 'assist_player_id': '1629027',\n",
       " 'atrim': 158,\n",
       " 'corner3': 0,\n",
       " 'longmidrange': 0,\n",
       " 'scorer_player': 'Clint Capela',\n",
       " 'scorer_player_id': '203991',\n",
       " 'shortmidrange': 6,\n",
       " 'team': 'ATL',\n",
       " 'team_id': '1610612737',\n",
       " 'total': 164,\n",
       " 'total2s': 164,\n",
       " 'total3s': 0}"
      ]
     },
     "execution_count": 2,
     "metadata": {},
     "output_type": "execute_result"
    }
   ],
   "source": [
    "url = \"https://api.pbpstats.com/get-assist-combo-summary/nba\"\n",
    "params = {\n",
    "    \"Season\": \"2021-22\",\n",
    "    \"SeasonType\": \"Regular Season\"\n",
    "}\n",
    "response = requests.get(url, params=params)\n",
    "response_json = response.json()\n",
    "response_json['results'][0]"
   ]
  },
  {
   "cell_type": "markdown",
   "id": "ab35bb54-5fd4-4db9-ae7c-749820a8f0cf",
   "metadata": {},
   "source": [
    "### WNBA"
   ]
  },
  {
   "cell_type": "code",
   "execution_count": 3,
   "id": "bbd2bd3b-cfe1-46b1-adf2-b8a1754a361b",
   "metadata": {},
   "outputs": [
    {
     "data": {
      "text/plain": [
       "{'arc3': 4,\n",
       " 'assist_player': 'Jordin Canada',\n",
       " 'assist_player_id': '1628886',\n",
       " 'atrim': 6,\n",
       " 'corner3': 0,\n",
       " 'longmidrange': 0,\n",
       " 'scorer_player': 'Nneka Ogwumike',\n",
       " 'scorer_player_id': '203014',\n",
       " 'shortmidrange': 5,\n",
       " 'team': 'LAS',\n",
       " 'team_id': '1611661320',\n",
       " 'total': 15,\n",
       " 'total2s': 11,\n",
       " 'total3s': 4}"
      ]
     },
     "execution_count": 3,
     "metadata": {},
     "output_type": "execute_result"
    }
   ],
   "source": [
    "url = \"https://api.pbpstats.com/get-assist-combo-summary/wnba\"\n",
    "params = {\n",
    "    \"Season\": \"2022\",\n",
    "    \"SeasonType\": \"Regular Season\"\n",
    "}\n",
    "response = requests.get(url, params=params)\n",
    "response_json = response.json()\n",
    "response_json['results'][0]"
   ]
  },
  {
   "cell_type": "code",
   "execution_count": null,
   "id": "33c01565-c9c8-4aed-999b-638afa07a7ac",
   "metadata": {},
   "outputs": [],
   "source": []
  }
 ],
 "metadata": {
  "kernelspec": {
   "display_name": "playground",
   "language": "python",
   "name": "playground"
  },
  "language_info": {
   "codemirror_mode": {
    "name": "ipython",
    "version": 3
   },
   "file_extension": ".py",
   "mimetype": "text/x-python",
   "name": "python",
   "nbconvert_exporter": "python",
   "pygments_lexer": "ipython3",
   "version": "3.8.9"
  }
 },
 "nbformat": 4,
 "nbformat_minor": 5
}
