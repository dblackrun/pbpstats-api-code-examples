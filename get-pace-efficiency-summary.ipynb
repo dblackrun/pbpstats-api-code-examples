{
 "cells": [
  {
   "cell_type": "markdown",
   "id": "f5c13c2c-d389-4239-9b1d-9c0c8a4f8ade",
   "metadata": {},
   "source": [
    "This endpoint can be used to get the pace (seconds per possession) and efficiency (points per possession) for each team broken down by how the possession started"
   ]
  },
  {
   "cell_type": "code",
   "execution_count": 1,
   "id": "e1b859f5-6d11-4d27-acab-34ef83310dd4",
   "metadata": {},
   "outputs": [],
   "source": [
    "import requests"
   ]
  },
  {
   "cell_type": "markdown",
   "id": "10373899-093f-4861-a9f8-66a56720081b",
   "metadata": {},
   "source": [
    "### NBA - Team"
   ]
  },
  {
   "cell_type": "code",
   "execution_count": 2,
   "id": "25a0e7ce-1f2f-47f2-bf6a-c0800e750d44",
   "metadata": {},
   "outputs": [
    {
     "data": {
      "text/plain": [
       "{'ppp': 1.16452698491836,\n",
       " 'ppp_off_deadball': 1.1491935483871,\n",
       " 'ppp_off_deadball_rank': 4,\n",
       " 'ppp_off_made_fg': 1.16974043715847,\n",
       " 'ppp_off_made_fg_rank': 1,\n",
       " 'ppp_off_made_ft': 1.06750392464678,\n",
       " 'ppp_off_made_ft_rank': 21,\n",
       " 'ppp_off_midrange_miss': 1.2334581772784,\n",
       " 'ppp_off_midrange_miss_rank': 1,\n",
       " 'ppp_off_missed3': 1.11212814645309,\n",
       " 'ppp_off_missed3_rank': 22,\n",
       " 'ppp_off_missed_fg': 1.16776699029126,\n",
       " 'ppp_off_missed_fg_rank': 12,\n",
       " 'ppp_off_missed_ft': 1.14788732394366,\n",
       " 'ppp_off_missed_ft_rank': 10,\n",
       " 'ppp_off_rim_miss': 1.19243986254296,\n",
       " 'ppp_off_rim_miss_rank': 15,\n",
       " 'ppp_off_steal': 1.33275261324042,\n",
       " 'ppp_off_steal_rank': 8,\n",
       " 'ppp_off_timeout': 1.05910165484634,\n",
       " 'ppp_off_timeout_rank': 22,\n",
       " 'ppp_rank': 2,\n",
       " 'spp': 14.7681665212514,\n",
       " 'spp_off_deadball': 15.6048387096774,\n",
       " 'spp_off_deadball_rank': 5,\n",
       " 'spp_off_made_fg': 17.7042349726776,\n",
       " 'spp_off_made_fg_rank': 11,\n",
       " 'spp_off_made_ft': 16.7331240188383,\n",
       " 'spp_off_made_ft_rank': 19,\n",
       " 'spp_off_midrange_miss': 11.5343320848939,\n",
       " 'spp_off_midrange_miss_rank': 25,\n",
       " 'spp_off_missed3': 11.837528604119,\n",
       " 'spp_off_missed3_rank': 22,\n",
       " 'spp_off_missed_fg': 11.2842718446602,\n",
       " 'spp_off_missed_fg_rank': 21,\n",
       " 'spp_off_missed_ft': 15.2605633802817,\n",
       " 'spp_off_missed_ft_rank': 13,\n",
       " 'spp_off_rim_miss': 9.78694158075601,\n",
       " 'spp_off_rim_miss_rank': 21,\n",
       " 'spp_off_steal': 9.42160278745645,\n",
       " 'spp_off_steal_rank': 27,\n",
       " 'spp_off_timeout': 18.3120567375887,\n",
       " 'spp_off_timeout_rank': 21,\n",
       " 'spp_rank': 16,\n",
       " 'team_id': '1610612737',\n",
       " 'team_name': 'ATL'}"
      ]
     },
     "execution_count": 2,
     "metadata": {},
     "output_type": "execute_result"
    }
   ],
   "source": [
    "url = \"https://api.pbpstats.com/get-pace-efficiency-summary/nba\"\n",
    "params = {\n",
    "    \"Season\": \"2021-22\",\n",
    "    \"SeasonType\": \"Regular Season\",\n",
    "    \"Type\": \"Team\"\n",
    "}\n",
    "response = requests.get(url, params=params)\n",
    "response_json = response.json()\n",
    "response_json['results'][0]"
   ]
  },
  {
   "cell_type": "markdown",
   "id": "40b72493-a4ec-4d98-85b2-bcc4a0109273",
   "metadata": {},
   "source": [
    "### WNBA - Opponent"
   ]
  },
  {
   "cell_type": "code",
   "execution_count": 3,
   "id": "b64ee7f3-9b1d-429d-916a-3aa70ab2d496",
   "metadata": {},
   "outputs": [
    {
     "data": {
      "text/plain": [
       "{'ppp': 1.02608695652174,\n",
       " 'ppp_off_deadball': 0.903225806451613,\n",
       " 'ppp_off_deadball_rank': 3,\n",
       " 'ppp_off_made_fg': 1.0,\n",
       " 'ppp_off_made_fg_rank': 8,\n",
       " 'ppp_off_made_ft': 0.956521739130435,\n",
       " 'ppp_off_made_ft_rank': 6,\n",
       " 'ppp_off_midrange_miss': 0.904109589041096,\n",
       " 'ppp_off_midrange_miss_rank': 3,\n",
       " 'ppp_off_missed3': 1.0,\n",
       " 'ppp_off_missed3_rank': 6,\n",
       " 'ppp_off_missed_fg': 0.989247311827957,\n",
       " 'ppp_off_missed_fg_rank': 6,\n",
       " 'ppp_off_missed_ft': 0.666666666666667,\n",
       " 'ppp_off_missed_ft_rank': 5,\n",
       " 'ppp_off_rim_miss': 0.9,\n",
       " 'ppp_off_rim_miss_rank': 3,\n",
       " 'ppp_off_steal': 1.421875,\n",
       " 'ppp_off_steal_rank': 12,\n",
       " 'ppp_off_timeout': 1.06060606060606,\n",
       " 'ppp_off_timeout_rank': 10,\n",
       " 'ppp_rank': 7,\n",
       " 'spp': 15.0977391304348,\n",
       " 'spp_off_deadball': 17.1645161290323,\n",
       " 'spp_off_deadball_rank': 7,\n",
       " 'spp_off_made_fg': 19.1886666666667,\n",
       " 'spp_off_made_fg_rank': 2,\n",
       " 'spp_off_made_ft': 15.5,\n",
       " 'spp_off_made_ft_rank': 12,\n",
       " 'spp_off_midrange_miss': 11.4068493150685,\n",
       " 'spp_off_midrange_miss_rank': 5,\n",
       " 'spp_off_missed3': 12.3466666666667,\n",
       " 'spp_off_missed3_rank': 3,\n",
       " 'spp_off_missed_fg': 11.9064516129032,\n",
       " 'spp_off_missed_fg_rank': 1,\n",
       " 'spp_off_missed_ft': 14.6666666666667,\n",
       " 'spp_off_missed_ft_rank': 7,\n",
       " 'spp_off_rim_miss': 11.75,\n",
       " 'spp_off_rim_miss_rank': 3,\n",
       " 'spp_off_steal': 10.85,\n",
       " 'spp_off_steal_rank': 1,\n",
       " 'spp_off_timeout': 16.3818181818182,\n",
       " 'spp_off_timeout_rank': 10,\n",
       " 'spp_rank': 6,\n",
       " 'team_id': '1611661313',\n",
       " 'team_name': 'NYL'}"
      ]
     },
     "execution_count": 3,
     "metadata": {},
     "output_type": "execute_result"
    }
   ],
   "source": [
    "url = \"https://api.pbpstats.com/get-pace-efficiency-summary/wnba\"\n",
    "params = {\n",
    "    \"Season\": \"2022\",\n",
    "    \"SeasonType\": \"Regular Season\",\n",
    "    \"Type\": \"Opponent\"\n",
    "}\n",
    "response = requests.get(url, params=params)\n",
    "response_json = response.json()\n",
    "response_json['results'][0]"
   ]
  },
  {
   "cell_type": "code",
   "execution_count": null,
   "id": "896e3ea2-ce5f-429a-8ced-99149c759aa2",
   "metadata": {},
   "outputs": [],
   "source": []
  }
 ],
 "metadata": {
  "kernelspec": {
   "display_name": "playground",
   "language": "python",
   "name": "playground"
  },
  "language_info": {
   "codemirror_mode": {
    "name": "ipython",
    "version": 3
   },
   "file_extension": ".py",
   "mimetype": "text/x-python",
   "name": "python",
   "nbconvert_exporter": "python",
   "pygments_lexer": "ipython3",
   "version": "3.8.9"
  }
 },
 "nbformat": 4,
 "nbformat_minor": 5
}
