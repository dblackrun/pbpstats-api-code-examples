{
 "cells": [
  {
   "cell_type": "markdown",
   "id": "89a218aa-b68d-4372-8e37-56a58a232d46",
   "metadata": {},
   "source": [
    "This endpoint can be used to get all today's games with their current score and time remaining"
   ]
  },
  {
   "cell_type": "code",
   "execution_count": 1,
   "id": "1c0efce7-6bb0-41b0-b912-a266c0356e7d",
   "metadata": {},
   "outputs": [],
   "source": [
    "import requests"
   ]
  },
  {
   "cell_type": "markdown",
   "id": "7dedeaee-daab-4585-8bc9-a4bae1fc0caf",
   "metadata": {},
   "source": [
    "### WNBA"
   ]
  },
  {
   "cell_type": "code",
   "execution_count": 2,
   "id": "6ac7756f-b898-4feb-ac58-cc5104791f79",
   "metadata": {},
   "outputs": [
    {
     "data": {
      "text/plain": [
       "{'live_games': 1,\n",
       " 'game_data': [{'gameid': '1022200047',\n",
       "   'time': '2nd Qtr - 06:35',\n",
       "   'home': 'CHI 29',\n",
       "   'away': 'LVA 34'},\n",
       "  {'gameid': '1022200048',\n",
       "   'time': '07:00 PM ET - 00:00.0',\n",
       "   'home': 'CON 0',\n",
       "   'away': 'WAS 0'}]}"
      ]
     },
     "execution_count": 2,
     "metadata": {},
     "output_type": "execute_result"
    }
   ],
   "source": [
    "url = \"https://api.pbpstats.com/live/games/wnba\"\n",
    "response = requests.get(url)\n",
    "response_json = response.json()\n",
    "response_json"
   ]
  },
  {
   "cell_type": "code",
   "execution_count": null,
   "id": "cddd54c9-1955-4a2d-bf36-193cd0bce688",
   "metadata": {},
   "outputs": [],
   "source": []
  }
 ],
 "metadata": {
  "kernelspec": {
   "display_name": "playground",
   "language": "python",
   "name": "playground"
  },
  "language_info": {
   "codemirror_mode": {
    "name": "ipython",
    "version": 3
   },
   "file_extension": ".py",
   "mimetype": "text/x-python",
   "name": "python",
   "nbconvert_exporter": "python",
   "pygments_lexer": "ipython3",
   "version": "3.8.9"
  }
 },
 "nbformat": 4,
 "nbformat_minor": 5
}
