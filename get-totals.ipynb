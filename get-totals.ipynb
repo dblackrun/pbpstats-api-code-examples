{
 "cells": [
  {
   "cell_type": "markdown",
   "id": "ff2a0521-c01a-4390-968d-d1a5d2e0062c",
   "metadata": {},
   "source": [
    "This endpoint can be used to get player/team/lineup totals for various query parameters"
   ]
  },
  {
   "cell_type": "code",
   "execution_count": 1,
   "id": "4ec9cccc-991e-4d73-a8d7-28b2982690b2",
   "metadata": {},
   "outputs": [],
   "source": [
    "import requests"
   ]
  },
  {
   "cell_type": "markdown",
   "id": "9bb807bc-c251-4b25-b0c6-9c3659e6fca5",
   "metadata": {},
   "source": [
    "# Player"
   ]
  },
  {
   "cell_type": "markdown",
   "id": "52730910-a6e9-4af7-b422-a99e2239be81",
   "metadata": {},
   "source": [
    "### All totals"
   ]
  },
  {
   "cell_type": "code",
   "execution_count": 2,
   "id": "74f17ba2-a4b8-4730-8e8d-eb6590b107d9",
   "metadata": {},
   "outputs": [],
   "source": [
    "url = \"https://api.pbpstats.com/get-totals/nba\"\n",
    "params = {\n",
    "    \"Season\": \"2021-22\",\n",
    "    \"SeasonType\": \"Regular Season\",\n",
    "    \"Type\": \"Player\"\n",
    "}\n",
    "response = requests.get(url, params=params)\n",
    "response_json = response.json()\n",
    "player_stats = response_json[\"multi_row_table_data\"]"
   ]
  },
  {
   "cell_type": "markdown",
   "id": "d66701ba-a141-4baa-99f2-f7dc733b5d89",
   "metadata": {},
   "source": [
    "### Across multiple seasons"
   ]
  },
  {
   "cell_type": "code",
   "execution_count": 3,
   "id": "75f2221c-b43e-46de-8a58-4093120806a0",
   "metadata": {},
   "outputs": [],
   "source": [
    "url = \"https://api.pbpstats.com/get-totals/nba\"\n",
    "params = {\n",
    "    \"Season\": \"2021-22,2020-21\",\n",
    "    \"SeasonType\": \"Regular Season\",\n",
    "    \"Type\": \"Player\"\n",
    "}\n",
    "response = requests.get(url, params=params)\n",
    "response_json = response.json()\n",
    "player_stats = response_json[\"multi_row_table_data\"]"
   ]
  },
  {
   "cell_type": "markdown",
   "id": "2b4f13b6-f848-4d9d-93dc-e899799ee4ea",
   "metadata": {},
   "source": [
    "### Only for a single team"
   ]
  },
  {
   "cell_type": "code",
   "execution_count": 4,
   "id": "9d7c7172-e394-4aa5-8122-5ce3133a1f9d",
   "metadata": {},
   "outputs": [],
   "source": [
    "url = \"https://api.pbpstats.com/get-totals/nba\"\n",
    "params = {\n",
    "    \"Season\": \"2021-22\",\n",
    "    \"SeasonType\": \"Regular Season\",\n",
    "    \"Type\": \"Player\",\n",
    "    \"TeamId\": \"1610612738\"\n",
    "}\n",
    "response = requests.get(url, params=params)\n",
    "response_json = response.json()\n",
    "player_stats = response_json[\"multi_row_table_data\"]"
   ]
  },
  {
   "cell_type": "markdown",
   "id": "a2875642-e76e-4e7b-8ee8-a2b6204b850f",
   "metadata": {},
   "source": [
    "### With low leverage minutes removed"
   ]
  },
  {
   "cell_type": "code",
   "execution_count": 5,
   "id": "d017757c-bfdb-43a5-a7b8-45bdb52f66b3",
   "metadata": {},
   "outputs": [],
   "source": [
    "url = \"https://api.pbpstats.com/get-totals/nba\"\n",
    "params = {\n",
    "    \"Season\": \"2021-22\",\n",
    "    \"SeasonType\": \"Regular Season\",\n",
    "    \"Type\": \"Player\",\n",
    "    \"Leverage\": \"Medium,High,VeryHigh\"\n",
    "}\n",
    "response = requests.get(url, params=params)\n",
    "response_json = response.json()\n",
    "player_stats = response_json[\"multi_row_table_data\"]"
   ]
  },
  {
   "cell_type": "markdown",
   "id": "59858577-8331-4bb0-8ce3-b6687a3d1a22",
   "metadata": {},
   "source": [
    "### Any number of starters on vs opponent with all 5 starters on the floor"
   ]
  },
  {
   "cell_type": "code",
   "execution_count": 6,
   "id": "f49f0a20-d605-4ecc-9a49-63221cbfd36d",
   "metadata": {},
   "outputs": [],
   "source": [
    "url = \"https://api.pbpstats.com/get-totals/nba\"\n",
    "params = {\n",
    "    \"Season\": \"2021-22\",\n",
    "    \"SeasonType\": \"Regular Season\",\n",
    "    \"Type\": \"Player\",\n",
    "    \"StarterState\": \"5v5,4v5,3v5,2v5,1v5,0v5\"\n",
    "}\n",
    "response = requests.get(url, params=params)\n",
    "response_json = response.json()\n",
    "player_stats = response_json[\"multi_row_table_data\"]"
   ]
  },
  {
   "cell_type": "markdown",
   "id": "d8cc8e42-2c7c-4a30-95a4-1957e9b8d003",
   "metadata": {},
   "source": [
    "### With a date filter"
   ]
  },
  {
   "cell_type": "code",
   "execution_count": 7,
   "id": "4ee2aebe-6c11-429a-b2ca-02161e794c64",
   "metadata": {},
   "outputs": [],
   "source": [
    "url = \"https://api.pbpstats.com/get-totals/wnba\"\n",
    "params = {\n",
    "    \"Season\": \"2022\",\n",
    "    \"SeasonType\": \"Regular Season\",\n",
    "    \"Type\": \"Player\",\n",
    "    \"FromDate\": \"2022-05-15\",\n",
    "    \"ToDate\": \"2022-05-27\"\n",
    "}\n",
    "response = requests.get(url, params=params)\n",
    "response_json = response.json()\n",
    "player_stats = response_json[\"multi_row_table_data\"]"
   ]
  },
  {
   "cell_type": "markdown",
   "id": "eaee9efc-a6ed-462f-9a3d-d9f0eba94cfa",
   "metadata": {},
   "source": [
    "# Team"
   ]
  },
  {
   "cell_type": "markdown",
   "id": "99bae27c-035b-4b1c-bb6a-1f5fc13f27ab",
   "metadata": {},
   "source": [
    "### All totals"
   ]
  },
  {
   "cell_type": "code",
   "execution_count": 8,
   "id": "b6209eca-c1bb-4e51-bfc6-89271e3ad2d2",
   "metadata": {},
   "outputs": [],
   "source": [
    "url = \"https://api.pbpstats.com/get-totals/nba\"\n",
    "params = {\n",
    "    \"Season\": \"2021-22\",\n",
    "    \"SeasonType\": \"Regular Season\",\n",
    "    \"Type\": \"Team\" # Use Opponent for opponent stats\n",
    "}\n",
    "response = requests.get(url, params=params)\n",
    "response_json = response.json()\n",
    "league_stats = response_json[\"single_row_table_data\"]\n",
    "team_stats = response_json[\"multi_row_table_data\"]"
   ]
  },
  {
   "cell_type": "markdown",
   "id": "8f468472-78ae-4f51-84c0-72695120bf38",
   "metadata": {},
   "source": [
    "### Across multiple seasons"
   ]
  },
  {
   "cell_type": "code",
   "execution_count": 9,
   "id": "a790ea64-a576-4603-a8c2-9fdb269d962e",
   "metadata": {},
   "outputs": [],
   "source": [
    "url = \"https://api.pbpstats.com/get-totals/nba\"\n",
    "params = {\n",
    "    \"Season\": \"2021-22,2020-21\",\n",
    "    \"SeasonType\": \"Regular Season\",\n",
    "    \"Type\": \"Team\" # Use Opponent for opponent stats\n",
    "}\n",
    "response = requests.get(url, params=params)\n",
    "response_json = response.json()\n",
    "league_stats = response_json[\"single_row_table_data\"]\n",
    "team_stats = response_json[\"multi_row_table_data\"]"
   ]
  },
  {
   "cell_type": "markdown",
   "id": "57003e69-7ab0-4570-9963-bb088db10f87",
   "metadata": {},
   "source": [
    "### Across multiple seasons - grouped by season"
   ]
  },
  {
   "cell_type": "code",
   "execution_count": 10,
   "id": "629a6844-174a-425b-9e64-9607aa9df3c9",
   "metadata": {},
   "outputs": [],
   "source": [
    "url = \"https://api.pbpstats.com/get-totals/nba\"\n",
    "params = {\n",
    "    \"Season\": \"2021-22,2020-21\",\n",
    "    \"SeasonType\": \"Regular Season\",\n",
    "    \"Type\": \"Team\", # Use Opponent for opponent stats\n",
    "    \"GroupBy\": \"season\"\n",
    "}\n",
    "response = requests.get(url, params=params)\n",
    "response_json = response.json()\n",
    "league_stats = response_json[\"single_row_table_data\"]\n",
    "team_stats = response_json[\"multi_row_table_data\"]"
   ]
  },
  {
   "cell_type": "markdown",
   "id": "2085cb66-8dc5-4460-8282-43e30fe546e6",
   "metadata": {},
   "source": [
    "### With low leverage minutes removed"
   ]
  },
  {
   "cell_type": "code",
   "execution_count": 11,
   "id": "8471deff-eeeb-41e6-bacd-59db1334e9d3",
   "metadata": {},
   "outputs": [],
   "source": [
    "url = \"https://api.pbpstats.com/get-totals/nba\"\n",
    "params = {\n",
    "    \"Season\": \"2021-22\",\n",
    "    \"SeasonType\": \"Regular Season\",\n",
    "    \"Type\": \"Team\", # Use Opponent for opponent stats\n",
    "    \"Leverage\": \"Medium,High,VeryHigh\"\n",
    "}\n",
    "response = requests.get(url, params=params)\n",
    "response_json = response.json()\n",
    "league_stats = response_json[\"single_row_table_data\"]\n",
    "team_stats = response_json[\"multi_row_table_data\"]"
   ]
  },
  {
   "cell_type": "markdown",
   "id": "08641258-ef70-431a-8609-ba2a6d393aff",
   "metadata": {},
   "source": [
    "### Any number of starters on vs opponent with all 5 starters on the floor"
   ]
  },
  {
   "cell_type": "code",
   "execution_count": 12,
   "id": "da13980a-e036-4ecb-ab61-3cc0010feccf",
   "metadata": {},
   "outputs": [],
   "source": [
    "url = \"https://api.pbpstats.com/get-totals/nba\"\n",
    "params = {\n",
    "    \"Season\": \"2021-22\",\n",
    "    \"SeasonType\": \"Regular Season\",\n",
    "    \"Type\": \"Team\", # Use Opponent for opponent stats\n",
    "    \"StarterState\": \"5v5,4v5,3v5,2v5,1v5,0v5\"\n",
    "}\n",
    "response = requests.get(url, params=params)\n",
    "response_json = response.json()\n",
    "league_stats = response_json[\"single_row_table_data\"]\n",
    "team_stats = response_json[\"multi_row_table_data\"]"
   ]
  },
  {
   "cell_type": "markdown",
   "id": "f44ceb34-a56e-4818-af2f-7dc572822501",
   "metadata": {},
   "source": [
    "### All possessions following a made FG by the opponent"
   ]
  },
  {
   "cell_type": "code",
   "execution_count": 13,
   "id": "464fb2c3-5eed-49d3-822a-e8f2c4a4435b",
   "metadata": {},
   "outputs": [],
   "source": [
    "url = \"https://api.pbpstats.com/get-totals/nba\"\n",
    "params = {\n",
    "    \"Season\": \"2021-22\",\n",
    "    \"SeasonType\": \"Regular Season\",\n",
    "    \"Type\": \"Team\", # Use Opponent for opponent stats\n",
    "    \"StartType\": \"OffMadeFG\" # see below for possible values for StartType\n",
    "}\n",
    "response = requests.get(url, params=params)\n",
    "response_json = response.json()\n",
    "league_stats = response_json[\"single_row_table_data\"]\n",
    "team_stats = response_json[\"multi_row_table_data\"]"
   ]
  },
  {
   "cell_type": "markdown",
   "id": "875f6169-5dcd-4dc7-b0ed-62f4fa763ac6",
   "metadata": {},
   "source": [
    "#### possible values for StartType"
   ]
  },
  {
   "cell_type": "code",
   "execution_count": 14,
   "id": "46e19efc-21c1-496f-9b5d-efe486ca67d0",
   "metadata": {},
   "outputs": [],
   "source": [
    "start_types = [\n",
    "    \"All\", # All\n",
    "    \"OffMissedFG\", # Off Any Missed FG\n",
    "    \"OffMissed2\", # Off Any Missed 2\n",
    "    \"OffMissed3\", # Off Any Missed 3\n",
    "    \"OffMadeFG\", # Off Any Made FG\n",
    "    \"OffMade2\", # Off Any Made 2\n",
    "    \"OffMade3\", # Off Any Made 3\n",
    "    \"OffAtRimMake\", # Off At Rim Make\n",
    "    \"OffAtRimMiss\", # Off At Rim Miss\n",
    "    \"OffAtRimBlock\", # Off At Rim Block\n",
    "    \"OffShortMidRangeMake\", # Off Short Mid-Range Make\n",
    "    \"OffShortMidRangeMiss\", # Off Short Mid-Range Miss\n",
    "    \"OffLongMidRangeMake\", # Off Long Mid-Range Make\n",
    "    \"OffLongMidRangeMiss\", # Off Long Mid-Range Miss\n",
    "    \"OffArc3Make\", # Off Arc 3 Make\n",
    "    \"OffArc3Miss\", # Off Arc 3 Miss\n",
    "    \"OffCorner3Make\", # Off Corner 3 Make\n",
    "    \"OffCorner3Miss\", # Off Corner 3 Miss\n",
    "    \"OffFTMake\", # Off FT Make\n",
    "    \"OffFTMiss\", # Off FT Miss\n",
    "    \"OffLiveBallTurnover\", # Off Steal\n",
    "    \"OffDeadball\", # Off Dead Ball\n",
    "    \"OffTimeout\", # Off Timeout\n",
    "]"
   ]
  },
  {
   "cell_type": "markdown",
   "id": "ceffc53e-00f5-4ad1-a548-251969e47c56",
   "metadata": {},
   "source": [
    "### With a date filter"
   ]
  },
  {
   "cell_type": "code",
   "execution_count": 15,
   "id": "2f3dd239-94e9-4e80-b136-9ffcfae247f1",
   "metadata": {},
   "outputs": [],
   "source": [
    "url = \"https://api.pbpstats.com/get-totals/wnba\"\n",
    "params = {\n",
    "    \"Season\": \"2022\",\n",
    "    \"SeasonType\": \"Regular Season\",\n",
    "    \"Type\": \"Team\", # Use Opponent for opponent stats\n",
    "    \"FromDate\": \"2022-05-15\",\n",
    "    \"ToDate\": \"2022-05-27\"\n",
    "}\n",
    "response = requests.get(url, params=params)\n",
    "response_json = response.json()\n",
    "league_stats = response_json[\"single_row_table_data\"]\n",
    "team_stats = response_json[\"multi_row_table_data\"]"
   ]
  },
  {
   "cell_type": "markdown",
   "id": "630a67b8-70b4-4665-bf01-f1d61ad7334b",
   "metadata": {},
   "source": [
    "# Lineup"
   ]
  },
  {
   "cell_type": "markdown",
   "id": "b8ab9ce6-a11d-4861-ab55-4a081c1fd2c8",
   "metadata": {},
   "source": [
    "### All totals"
   ]
  },
  {
   "cell_type": "code",
   "execution_count": 16,
   "id": "f6451ed7-ad5f-482a-af9c-28de0d60de66",
   "metadata": {},
   "outputs": [],
   "source": [
    "url = \"https://api.pbpstats.com/get-totals/nba\"\n",
    "params = {\n",
    "    \"Season\": \"2021-22\",\n",
    "    \"SeasonType\": \"Regular Season\",\n",
    "    \"Type\": \"Lineup\" # Use LineupOpponent for opponent lineup stats\n",
    "}\n",
    "response = requests.get(url, params=params)\n",
    "response_json = response.json()\n",
    "lineup_stats = response_json[\"multi_row_table_data\"]"
   ]
  },
  {
   "cell_type": "markdown",
   "id": "398c1ca7-02ad-4d57-bdf2-c36a37f7d0c2",
   "metadata": {},
   "source": [
    "### Across multiple seasons"
   ]
  },
  {
   "cell_type": "code",
   "execution_count": 17,
   "id": "2f195d2b-494e-4b21-b195-9fcefa40fcc1",
   "metadata": {},
   "outputs": [],
   "source": [
    "url = \"https://api.pbpstats.com/get-totals/nba\"\n",
    "params = {\n",
    "    \"Season\": \"2021-22,2020-21\",\n",
    "    \"SeasonType\": \"Regular Season\",\n",
    "    \"Type\": \"Lineup\" # Use LineupOpponent for opponent lineup stats\n",
    "}\n",
    "response = requests.get(url, params=params)\n",
    "response_json = response.json()\n",
    "lineup_stats = response_json[\"multi_row_table_data\"]"
   ]
  },
  {
   "cell_type": "markdown",
   "id": "8b54f302-283e-48d8-aa2e-bbab0bc60c99",
   "metadata": {},
   "source": [
    "### Only for a single team"
   ]
  },
  {
   "cell_type": "code",
   "execution_count": 18,
   "id": "06708092-90ce-4071-bd52-d637163ac710",
   "metadata": {},
   "outputs": [],
   "source": [
    "url = \"https://api.pbpstats.com/get-totals/nba\"\n",
    "params = {\n",
    "    \"Season\": \"2021-22\",\n",
    "    \"SeasonType\": \"Regular Season\",\n",
    "    \"Type\": \"Lineup\", # Use LineupOpponent for opponent lineup stats\n",
    "    \"TeamId\": \"1610612738\"\n",
    "}\n",
    "response = requests.get(url, params=params)\n",
    "response_json = response.json()\n",
    "lineup_stats = response_json[\"multi_row_table_data\"]"
   ]
  },
  {
   "cell_type": "markdown",
   "id": "09bf8735-9aa7-4973-aa86-2d121a1a56b2",
   "metadata": {},
   "source": [
    "### With low leverage minutes removed"
   ]
  },
  {
   "cell_type": "code",
   "execution_count": 19,
   "id": "8666a04f-95fb-4fb9-947d-f0179a5631a1",
   "metadata": {},
   "outputs": [],
   "source": [
    "url = \"https://api.pbpstats.com/get-totals/nba\"\n",
    "params = {\n",
    "    \"Season\": \"2021-22\",\n",
    "    \"SeasonType\": \"Regular Season\",\n",
    "    \"Type\": \"Lineup\", # Use LineupOpponent for opponent lineup stats\n",
    "    \"TeamId\": \"1610612738\",\n",
    "    \"Leverage\": \"Medium,High,VeryHigh\"\n",
    "}\n",
    "response = requests.get(url, params=params)\n",
    "response_json = response.json()\n",
    "lineup_stats = response_json[\"multi_row_table_data\"]"
   ]
  },
  {
   "cell_type": "markdown",
   "id": "d7b0201d-0d79-4f8a-997b-68ff04f3e401",
   "metadata": {},
   "source": [
    "### With a date filter"
   ]
  },
  {
   "cell_type": "code",
   "execution_count": 20,
   "id": "29d62460-6e2d-4951-abd2-67210ed03552",
   "metadata": {},
   "outputs": [],
   "source": [
    "url = \"https://api.pbpstats.com/get-totals/wnba\"\n",
    "params = {\n",
    "    \"Season\": \"2022\",\n",
    "    \"SeasonType\": \"Regular Season\",\n",
    "    \"Type\": \"Lineup\", # Use LineupOpponent for opponent lineup stats\n",
    "    \"FromDate\": \"2022-05-15\",\n",
    "    \"ToDate\": \"2022-05-27\"\n",
    "}\n",
    "response = requests.get(url, params=params)\n",
    "response_json = response.json()\n",
    "lineup_stats = response_json[\"multi_row_table_data\"]"
   ]
  },
  {
   "cell_type": "code",
   "execution_count": null,
   "id": "b37e8cc3-f6d9-45ac-9666-60572e1d240e",
   "metadata": {},
   "outputs": [],
   "source": []
  }
 ],
 "metadata": {
  "kernelspec": {
   "display_name": "playground",
   "language": "python",
   "name": "playground"
  },
  "language_info": {
   "codemirror_mode": {
    "name": "ipython",
    "version": 3
   },
   "file_extension": ".py",
   "mimetype": "text/x-python",
   "name": "python",
   "nbconvert_exporter": "python",
   "pygments_lexer": "ipython3",
   "version": "3.8.9"
  }
 },
 "nbformat": 4,
 "nbformat_minor": 5
}
