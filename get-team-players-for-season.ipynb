{
 "cells": [
  {
   "cell_type": "markdown",
   "id": "838cd267-835d-4656-ae2e-610b33705103",
   "metadata": {},
   "source": [
    "The endpoint can be used to get all the players for a team for a season"
   ]
  },
  {
   "cell_type": "code",
   "execution_count": 1,
   "id": "a0db7d5c-cacd-4a45-ae78-21e52ef042ce",
   "metadata": {},
   "outputs": [],
   "source": [
    "import requests"
   ]
  },
  {
   "cell_type": "markdown",
   "id": "01932d14-b1d4-4a37-86a6-f32fc25b79da",
   "metadata": {},
   "source": [
    "### 2021-22 Atlanta Hawks"
   ]
  },
  {
   "cell_type": "code",
   "execution_count": 2,
   "id": "4dc7a032-0cdf-40d4-a511-3c9c81c25083",
   "metadata": {},
   "outputs": [
    {
     "data": {
      "text/plain": [
       "{'202362': 'Lance Stephenson',\n",
       " '203524': 'Solomon Hill',\n",
       " '1628381': 'John Collins',\n",
       " '1629631': \"De'Andre Hunter\",\n",
       " '203991': 'Clint Capela',\n",
       " '1628989': 'Kevin Huerter',\n",
       " '1629027': 'Trae Young',\n",
       " '203992': 'Bogdan Bogdanovic',\n",
       " '1626153': 'Delon Wright',\n",
       " '1630536': 'Sharife Cooper',\n",
       " '203476': 'Gorgui Dieng',\n",
       " '1629629': 'Cam Reddish',\n",
       " '1627789': 'Timothe Luwawu-Cabarrot',\n",
       " '1630552': 'Jalen Johnson',\n",
       " '1630219': 'Skylar Mays',\n",
       " '101150': 'Lou Williams',\n",
       " '201568': 'Danilo Gallinari',\n",
       " '1630168': 'Onyeka Okongwu',\n",
       " '1627760': 'Cat Barber',\n",
       " '1628411': 'Wes Iwundu',\n",
       " '1630707': 'Malik Ellison',\n",
       " '1630792': 'Malcolm Hill',\n",
       " '1630602': 'Chaundee Brown Jr.',\n",
       " '1628419': 'Cameron Oliver',\n",
       " '1629598': 'Chris Clemons',\n",
       " '1628995': 'Kevin Knox II'}"
      ]
     },
     "execution_count": 2,
     "metadata": {},
     "output_type": "execute_result"
    }
   ],
   "source": [
    "players_url = \"https://api.pbpstats.com/get-team-players-for-season\"\n",
    "players_params = {\n",
    "    \"Season\": \"2021-22\",\n",
    "    \"SeasonType\": \"Regular Season\",\n",
    "    \"TeamId\": \"1610612737\"\n",
    "}\n",
    "players_response = requests.get(players_url, params=players_params)\n",
    "players = players_response.json()\n",
    "players[\"players\"]"
   ]
  },
  {
   "cell_type": "markdown",
   "id": "e9490ee2-a59c-4d3b-b6cd-87c365c2987e",
   "metadata": {},
   "source": [
    "### 2020-21 and 2021-22 Golden State Warriors"
   ]
  },
  {
   "cell_type": "code",
   "execution_count": 3,
   "id": "bf8174d9-90ee-42c5-a1a7-5f3f58b7f9f8",
   "metadata": {},
   "outputs": [
    {
     "data": {
      "text/plain": [
       "{'1629308': 'Juan Toscano-Anderson',\n",
       " '1628539': 'Mychal Mulder',\n",
       " '1629673': 'Jordan Poole',\n",
       " '1626162': 'Kelly Oubre Jr.',\n",
       " '1629672': 'Eric Paschall',\n",
       " '1627737': 'Marquese Chriss',\n",
       " '1627814': 'Damion Lee',\n",
       " '1630164': 'James Wiseman',\n",
       " '202954': 'Brad Wanamaker',\n",
       " '203952': 'Andrew Wiggins',\n",
       " '1626172': 'Kevon Looney',\n",
       " '203145': 'Kent Bazemore',\n",
       " '201939': 'Stephen Curry',\n",
       " '203110': 'Draymond Green',\n",
       " '202691': 'Klay Thompson',\n",
       " '1630185': 'Nico Mannion',\n",
       " '1629346': 'Alen Smailagic',\n",
       " '1627780': 'Gary Payton II',\n",
       " '1628395': 'Jordan Bell',\n",
       " '2738': 'Andre Iguodala',\n",
       " '202357': 'Nemanja Bjelica',\n",
       " '1629185': 'Chris Chiozza',\n",
       " '1630228': 'Jonathan Kuminga',\n",
       " '1630288': 'Jeff Dowtin',\n",
       " '1629683': 'Quinndary Weatherspoon',\n",
       " '1630541': 'Moses Moody',\n",
       " '203490': 'Otto Porter Jr.'}"
      ]
     },
     "execution_count": 3,
     "metadata": {},
     "output_type": "execute_result"
    }
   ],
   "source": [
    "players_url = \"https://api.pbpstats.com/get-team-players-for-season\"\n",
    "players_params = {\n",
    "    \"Season\": \"2020-21,2021-22\",\n",
    "    \"SeasonType\": \"Regular Season\",\n",
    "    \"TeamId\": \"1610612744\"\n",
    "}\n",
    "players_response = requests.get(players_url, params=players_params)\n",
    "players = players_response.json()\n",
    "players[\"players\"]"
   ]
  },
  {
   "cell_type": "markdown",
   "id": "5a1d749d-3b1d-413b-9fd8-fac97ffb2f83",
   "metadata": {},
   "source": [
    "### 2022 Seattle Storm"
   ]
  },
  {
   "cell_type": "code",
   "execution_count": 4,
   "id": "86905860-7a5b-4801-9c1c-de458046cadf",
   "metadata": {},
   "outputs": [
    {
     "data": {
      "text/plain": [
       "{'1628931': 'Gabby Williams',\n",
       " '1629496': 'Ezi Magbegor',\n",
       " '203855': 'Stephanie Talbot',\n",
       " '1627668': 'Breanna Stewart',\n",
       " '202650': 'Jantel Lavender',\n",
       " '201896': 'Briann January',\n",
       " '204334': 'Reshanda Gray',\n",
       " '100720': 'Sue Bird',\n",
       " '202259': 'Epiphanny Prince',\n",
       " '204319': 'Jewell Loyd',\n",
       " '1631073': 'Raina Perez'}"
      ]
     },
     "execution_count": 4,
     "metadata": {},
     "output_type": "execute_result"
    }
   ],
   "source": [
    "players_url = \"https://api.pbpstats.com/get-team-players-for-season\"\n",
    "players_params = {\n",
    "    \"Season\": \"2022\",\n",
    "    \"SeasonType\": \"Regular Season\",\n",
    "    \"TeamId\": \"1611661328\"\n",
    "}\n",
    "players_response = requests.get(players_url, params=players_params)\n",
    "players = players_response.json()\n",
    "players[\"players\"]"
   ]
  },
  {
   "cell_type": "markdown",
   "id": "a34dec1a-a3a4-429e-8977-e32243d1932d",
   "metadata": {},
   "source": [
    "### 2021 and 2022 Seattle Storm"
   ]
  },
  {
   "cell_type": "code",
   "execution_count": 5,
   "id": "80d1de1e-6ff4-46a7-b6d6-57f5130ad526",
   "metadata": {},
   "outputs": [
    {
     "data": {
      "text/plain": [
       "{'1627668': 'Breanna Stewart',\n",
       " '1629478': 'Katie Lou Samuelson',\n",
       " '204319': 'Jewell Loyd',\n",
       " '200676': 'Candice Dupree',\n",
       " '1630461': 'Kiana Williams',\n",
       " '100720': 'Sue Bird',\n",
       " '203855': 'Stephanie Talbot',\n",
       " '1628886': 'Jordin Canada',\n",
       " '1629496': 'Ezi Magbegor',\n",
       " '1630114': 'Mikiah Herbert Harrigan',\n",
       " '1629568': 'Kennedy Burke',\n",
       " '1628920': 'Mercedes Russell',\n",
       " '202259': 'Epiphanny Prince',\n",
       " '204332': 'Cierra Burdick',\n",
       " '1628317': 'Karlie Samuelson',\n",
       " '1628931': 'Gabby Williams',\n",
       " '202650': 'Jantel Lavender',\n",
       " '201896': 'Briann January',\n",
       " '204334': 'Reshanda Gray',\n",
       " '1631073': 'Raina Perez'}"
      ]
     },
     "execution_count": 5,
     "metadata": {},
     "output_type": "execute_result"
    }
   ],
   "source": [
    "players_url = \"https://api.pbpstats.com/get-team-players-for-season\"\n",
    "players_params = {\n",
    "    \"Season\": \"2021,2022\",\n",
    "    \"SeasonType\": \"Regular Season\",\n",
    "    \"TeamId\": \"1611661328\"\n",
    "}\n",
    "players_response = requests.get(players_url, params=players_params)\n",
    "players = players_response.json()\n",
    "players[\"players\"]"
   ]
  },
  {
   "cell_type": "code",
   "execution_count": null,
   "id": "45d51800-c8f5-49ba-85bf-47bf80fcbcca",
   "metadata": {},
   "outputs": [],
   "source": []
  }
 ],
 "metadata": {
  "kernelspec": {
   "display_name": "playground",
   "language": "python",
   "name": "playground"
  },
  "language_info": {
   "codemirror_mode": {
    "name": "ipython",
    "version": 3
   },
   "file_extension": ".py",
   "mimetype": "text/x-python",
   "name": "python",
   "nbconvert_exporter": "python",
   "pygments_lexer": "ipython3",
   "version": "3.8.9"
  }
 },
 "nbformat": 4,
 "nbformat_minor": 5
}
