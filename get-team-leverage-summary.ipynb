{
 "cells": [
  {
   "cell_type": "markdown",
   "id": "c380f94a-1ef2-48d6-914f-9bf2e7115580",
   "metadata": {},
   "source": [
    "This endpoint can be used to get team efficiency and four factors stats based on the leverage state. These are regular season only stats"
   ]
  },
  {
   "cell_type": "code",
   "execution_count": 1,
   "id": "633b6920-8213-4458-8131-72409abd9537",
   "metadata": {},
   "outputs": [],
   "source": [
    "import requests"
   ]
  },
  {
   "cell_type": "markdown",
   "id": "eeab0956-393b-494d-b19d-a878e169387f",
   "metadata": {},
   "source": [
    "### NBA - High and Very High leverage"
   ]
  },
  {
   "cell_type": "code",
   "execution_count": 2,
   "id": "967ffe17-ab8e-4fad-bc54-dd8a8dabf296",
   "metadata": {},
   "outputs": [
    {
     "data": {
      "text/plain": [
       "{'team': 'LAC',\n",
       " 'off_poss': 249,\n",
       " 'def_poss': 252,\n",
       " 'off_rtg': 122.9,\n",
       " 'def_rtg': 123.0,\n",
       " 'net_rtg': -0.1,\n",
       " 'seconds_per_poss_off': 16.0,\n",
       " 'seconds_per_poss_def': 15.9,\n",
       " 'efg': 0.5684,\n",
       " 'opp_efg': 0.5039,\n",
       " 'fg2_pct': 0.5,\n",
       " 'opp_fg2_pct': 0.4655,\n",
       " 'fg3_pct': 0.4512,\n",
       " 'opp_fg3_pct': 0.3902,\n",
       " 'oreb_pct': 0.287,\n",
       " 'dreb_pct': 0.6119,\n",
       " 'to_per_100': 11.6,\n",
       " 'opp_to_per_100': 11.5,\n",
       " 'fta_per_fga': 0.396,\n",
       " 'opp_fta_per_fga': 0.277}"
      ]
     },
     "execution_count": 2,
     "metadata": {},
     "output_type": "execute_result"
    }
   ],
   "source": [
    "url = \"https://api.pbpstats.com/get-team-leverage-summary/nba\"\n",
    "params = {\n",
    "    \"Season\": \"2021-22\",\n",
    "    \"Leverage\": \"High,VeryHigh\" # options are Low, Medium, High and VeryHigh. Comma separated for multiple.\n",
    "}\n",
    "response = requests.get(url, params=params)\n",
    "response_json = response.json()\n",
    "response_json['results'][0]"
   ]
  },
  {
   "cell_type": "markdown",
   "id": "056232eb-2821-46d7-bbd9-1d36ccfb75c3",
   "metadata": {},
   "source": [
    "### WNBA - Medium, High and Very High leverage"
   ]
  },
  {
   "cell_type": "code",
   "execution_count": 3,
   "id": "528a531b-9aca-4d58-b255-0a095cf3e0fd",
   "metadata": {},
   "outputs": [
    {
     "data": {
      "text/plain": [
       "{'team': 'CHI',\n",
       " 'off_poss': 447,\n",
       " 'def_poss': 444,\n",
       " 'off_rtg': 102.7,\n",
       " 'def_rtg': 95.7,\n",
       " 'net_rtg': 7.0,\n",
       " 'seconds_per_poss_off': 15.2,\n",
       " 'seconds_per_poss_def': 15.0,\n",
       " 'efg': 0.5176,\n",
       " 'opp_efg': 0.4633,\n",
       " 'fg2_pct': 0.5326,\n",
       " 'opp_fg2_pct': 0.4419,\n",
       " 'fg3_pct': 0.3211,\n",
       " 'opp_fg3_pct': 0.3421,\n",
       " 'oreb_pct': 0.2487,\n",
       " 'dreb_pct': 0.6881,\n",
       " 'to_per_100': 19.5,\n",
       " 'opp_to_per_100': 20.7,\n",
       " 'fta_per_fga': 0.257,\n",
       " 'opp_fta_per_fga': 0.26}"
      ]
     },
     "execution_count": 3,
     "metadata": {},
     "output_type": "execute_result"
    }
   ],
   "source": [
    "url = \"https://api.pbpstats.com/get-team-leverage-summary/wnba\"\n",
    "params = {\n",
    "    \"Season\": \"2022\",\n",
    "    \"Leverage\": \"Medium,High,VeryHigh\" # options are Low, Medium, High and VeryHigh. Comma separated for multiple.\n",
    "}\n",
    "response = requests.get(url, params=params)\n",
    "response_json = response.json()\n",
    "response_json['results'][0]"
   ]
  },
  {
   "cell_type": "code",
   "execution_count": null,
   "id": "89b9b0ac-59c3-4f26-a83c-c91b221c191c",
   "metadata": {},
   "outputs": [],
   "source": []
  }
 ],
 "metadata": {
  "kernelspec": {
   "display_name": "playground",
   "language": "python",
   "name": "playground"
  },
  "language_info": {
   "codemirror_mode": {
    "name": "ipython",
    "version": 3
   },
   "file_extension": ".py",
   "mimetype": "text/x-python",
   "name": "python",
   "nbconvert_exporter": "python",
   "pygments_lexer": "ipython3",
   "version": "3.8.9"
  }
 },
 "nbformat": 4,
 "nbformat_minor": 5
}
