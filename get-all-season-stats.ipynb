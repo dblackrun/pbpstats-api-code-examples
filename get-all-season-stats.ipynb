{
 "cells": [
  {
   "cell_type": "markdown",
   "id": "59cb6de5-1bc9-4c64-8c63-75522df140dd",
   "metadata": {},
   "source": [
    "This endpoint can be used to get career stats by season for a player/team/lineup"
   ]
  },
  {
   "cell_type": "code",
   "execution_count": 1,
   "id": "18d1387d-34e8-4260-9fd2-da725acab59e",
   "metadata": {},
   "outputs": [],
   "source": [
    "import requests"
   ]
  },
  {
   "cell_type": "markdown",
   "id": "53d1585f-49ee-4745-9949-6a67bea56616",
   "metadata": {},
   "source": [
    "### Warriors Death Lineup"
   ]
  },
  {
   "cell_type": "code",
   "execution_count": 2,
   "id": "e0c071e2-f2d4-4025-a06a-eb91e0c80de7",
   "metadata": {},
   "outputs": [],
   "source": [
    "url = \"https://api.pbpstats.com/get-all-season-stats/nba\"\n",
    "params = {\n",
    "    \"EntityType\": \"Lineup\", # Use LineupOpponent to get opponent stats\n",
    "    \"EntityId\": \"201939-202691-203084-203110-2738\"\n",
    "}\n",
    "response = requests.get(url, params=params)\n",
    "response_json = response.json()"
   ]
  },
  {
   "cell_type": "markdown",
   "id": "ca3f4569-d8ca-45ab-99ea-50e93b509770",
   "metadata": {},
   "source": [
    "### Miami Heat"
   ]
  },
  {
   "cell_type": "code",
   "execution_count": 3,
   "id": "4996fc30-448a-4978-bb77-419291dddf21",
   "metadata": {},
   "outputs": [],
   "source": [
    "url = \"https://api.pbpstats.com/get-all-season-stats/nba\"\n",
    "params = {\n",
    "    \"EntityType\": \"Opponent\",\n",
    "    \"EntityId\": \"1610612748\"\n",
    "}\n",
    "response = requests.get(url, params=params)\n",
    "response_json = response.json()"
   ]
  },
  {
   "cell_type": "markdown",
   "id": "00ee8344-8aaa-42b8-9d0d-175424ae6784",
   "metadata": {},
   "source": [
    "### Miami Heat - Opponent"
   ]
  },
  {
   "cell_type": "code",
   "execution_count": 4,
   "id": "e2d3f061-154a-4e0c-a5aa-435ba1f2d802",
   "metadata": {},
   "outputs": [],
   "source": [
    "url = \"https://api.pbpstats.com/get-all-season-stats/nba\"\n",
    "params = {\n",
    "    \"EntityType\": \"Team\",\n",
    "    \"EntityId\": \"1610612748\"\n",
    "}\n",
    "response = requests.get(url, params=params)\n",
    "response_json = response.json()"
   ]
  },
  {
   "cell_type": "markdown",
   "id": "99e73608-b60f-4111-b671-d440febe9072",
   "metadata": {},
   "source": [
    "### Sue Bird"
   ]
  },
  {
   "cell_type": "code",
   "execution_count": 5,
   "id": "7d159804-239d-4e57-ac55-a52f4b6a84f8",
   "metadata": {},
   "outputs": [],
   "source": [
    "url = \"https://api.pbpstats.com/get-all-season-stats/wnba\"\n",
    "params = {\n",
    "    \"EntityType\": \"Player\",\n",
    "    \"EntityId\": \"100720\"\n",
    "}\n",
    "response = requests.get(url, params=params)\n",
    "response_json = response.json()"
   ]
  },
  {
   "cell_type": "code",
   "execution_count": null,
   "id": "e9d307ac-7cc5-431b-9a3e-8bea5785e1e1",
   "metadata": {},
   "outputs": [],
   "source": []
  }
 ],
 "metadata": {
  "kernelspec": {
   "display_name": "playground",
   "language": "python",
   "name": "playground"
  },
  "language_info": {
   "codemirror_mode": {
    "name": "ipython",
    "version": 3
   },
   "file_extension": ".py",
   "mimetype": "text/x-python",
   "name": "python",
   "nbconvert_exporter": "python",
   "pygments_lexer": "ipython3",
   "version": "3.8.9"
  }
 },
 "nbformat": 4,
 "nbformat_minor": 5
}
