{
 "cells": [
  {
   "cell_type": "markdown",
   "id": "a23742ea-2afb-4eca-a873-d91924293bd7",
   "metadata": {},
   "source": [
    "This endpoint can be used to get stats for all sub units of 2, 3 or 4 players of a 5 player lineup"
   ]
  },
  {
   "cell_type": "code",
   "execution_count": 1,
   "id": "75f143b2-1ca2-459a-9106-708e7ff598c1",
   "metadata": {},
   "outputs": [],
   "source": [
    "import requests"
   ]
  },
  {
   "cell_type": "markdown",
   "id": "79569764-cdc7-4e09-9cf5-697dd63027ab",
   "metadata": {},
   "source": [
    "### Al Horford, Marcus Smart, Jaylen Brown, Jayson Tatum, Robert Williams III - sub unit size = 3"
   ]
  },
  {
   "cell_type": "code",
   "execution_count": 2,
   "id": "27cf8d1a-1366-48bf-aec8-ac3d102f4426",
   "metadata": {},
   "outputs": [
    {
     "data": {
      "text/plain": [
       "{'OffRtg': 120.84842214174857,\n",
       " 'DefRtg': 101.30821559392987,\n",
       " 'NetRtg': 19.5402065478187,\n",
       " 'Minutes': 959.0,\n",
       " 'On': 'Jaylen Brown, Jayson Tatum, Robert Williams III',\n",
       " 'Off': '',\n",
       " 'TeamWowyQueryParams': {'Season': '2021-22',\n",
       "  'SeasonType': 'Regular Season',\n",
       "  'TeamId': '1610612738',\n",
       "  'Type': 'Team',\n",
       "  '0Exactly3OnFloor': '1627759,1628369,1629057'},\n",
       " 'OpponentWowyQueryParams': {'Season': '2021-22',\n",
       "  'SeasonType': 'Regular Season',\n",
       "  'TeamId': '1610612738',\n",
       "  'Type': 'Opponent',\n",
       "  '0Exactly3OnFloor': '1627759,1628369,1629057'},\n",
       " 'RowId': 'On:1627759,1628369,1629057',\n",
       " 'Fg3Pct': 0.37551581843191195,\n",
       " 'Fg2Pct': 0.5853658536585366,\n",
       " 'OppFg3Pct': 0.3129973474801061,\n",
       " 'OppFg2Pct': 0.46948818897637795}"
      ]
     },
     "execution_count": 2,
     "metadata": {},
     "output_type": "execute_result"
    }
   ],
   "source": [
    "url = \"https://api.pbpstats.com/get-lineup-subunit-stats/nba\"\n",
    "params = {\n",
    "    \"LineupId\": \"1627759-1628369-1629057-201143-203935\", # lineup ids are hyphen separated player ids sorted as strings\n",
    "    \"TeamId\": \"1610612738\",\n",
    "    \"Season\": \"2021-22\",\n",
    "    \"SeasonType\": \"Regular Season\",\n",
    "    \"SubUnitSize\": 3\n",
    "}\n",
    "response = requests.get(url, params=params)\n",
    "response_json = response.json()\n",
    "response_json['results'][0]"
   ]
  },
  {
   "cell_type": "markdown",
   "id": "36c8b585-6b4c-466d-b834-0dcbce667d61",
   "metadata": {},
   "source": [
    "### Chelsea Gray, Dearica Hamby, Kelsey Plum, A'ja Wilson, Jackie Young - sub unit size = 2"
   ]
  },
  {
   "cell_type": "code",
   "execution_count": 3,
   "id": "4ca0f586-2a47-4fe0-aee5-b4e929d85f85",
   "metadata": {},
   "outputs": [
    {
     "data": {
      "text/plain": [
       "{'OffRtg': 117.30337078651685,\n",
       " 'DefRtg': 94.34389140271493,\n",
       " 'NetRtg': 22.95947938380192,\n",
       " 'Minutes': 216.0,\n",
       " 'On': \"Kelsey Plum, A'ja Wilson\",\n",
       " 'Off': '',\n",
       " 'TeamWowyQueryParams': {'Season': '2022',\n",
       "  'SeasonType': 'Regular Season',\n",
       "  'TeamId': '1611661319',\n",
       "  'Type': 'Team',\n",
       "  '0Exactly2OnFloor': '1628276,1628932'},\n",
       " 'OpponentWowyQueryParams': {'Season': '2022',\n",
       "  'SeasonType': 'Regular Season',\n",
       "  'TeamId': '1611661319',\n",
       "  'Type': 'Opponent',\n",
       "  '0Exactly2OnFloor': '1628276,1628932'},\n",
       " 'RowId': 'On:1628276,1628932',\n",
       " 'Fg3Pct': 0.47368421052631576,\n",
       " 'Fg2Pct': 0.5371900826446281,\n",
       " 'OppFg3Pct': 0.3,\n",
       " 'OppFg2Pct': 0.46987951807228917}"
      ]
     },
     "execution_count": 3,
     "metadata": {},
     "output_type": "execute_result"
    }
   ],
   "source": [
    "url = \"https://api.pbpstats.com/get-lineup-subunit-stats/wnba\"\n",
    "params = {\n",
    "    \"LineupId\": \"1628276-1628932-1629498-203833-204324\", # lineup ids are hyphen separated player ids sorted as strings\n",
    "    \"TeamId\": \"1611661319\",\n",
    "    \"Season\": \"2022\",\n",
    "    \"SeasonType\": \"Regular Season\",\n",
    "    \"SubUnitSize\": 2\n",
    "}\n",
    "response = requests.get(url, params=params)\n",
    "response_json = response.json()\n",
    "response_json['results'][0]"
   ]
  },
  {
   "cell_type": "code",
   "execution_count": null,
   "id": "2f74a94a-2215-4347-a4d6-b182425a1da0",
   "metadata": {},
   "outputs": [],
   "source": []
  }
 ],
 "metadata": {
  "kernelspec": {
   "display_name": "playground",
   "language": "python",
   "name": "playground"
  },
  "language_info": {
   "codemirror_mode": {
    "name": "ipython",
    "version": 3
   },
   "file_extension": ".py",
   "mimetype": "text/x-python",
   "name": "python",
   "nbconvert_exporter": "python",
   "pygments_lexer": "ipython3",
   "version": "3.8.9"
  }
 },
 "nbformat": 4,
 "nbformat_minor": 5
}
