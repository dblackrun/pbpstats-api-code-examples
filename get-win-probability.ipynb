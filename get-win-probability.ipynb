{
 "cells": [
  {
   "cell_type": "markdown",
   "id": "7266e068-8e30-48d8-a299-6e16cd8d2c69",
   "metadata": {},
   "source": [
    "This endpoint can be used to get the win probability for a given score/time/pre game win percentage"
   ]
  },
  {
   "cell_type": "code",
   "execution_count": 1,
   "id": "e462691f-64bb-4877-aaa0-0e6e30de9fc6",
   "metadata": {},
   "outputs": [],
   "source": [
    "import requests"
   ]
  },
  {
   "cell_type": "markdown",
   "id": "015254de-a8e2-4fe0-936c-305fd10f5873",
   "metadata": {},
   "source": [
    "### NBA - Down 5, with the ball with 60 seconds left and a 55% pregame win probability"
   ]
  },
  {
   "cell_type": "code",
   "execution_count": 2,
   "id": "9625ca59-d170-4dba-99c5-e2d61ac47381",
   "metadata": {},
   "outputs": [
    {
     "data": {
      "text/plain": [
       "{'win_probability': 0.08770513534545898}"
      ]
     },
     "execution_count": 2,
     "metadata": {},
     "output_type": "execute_result"
    }
   ],
   "source": [
    "league = \"nba\"\n",
    "margin = -5 # from the perspective of the team with the ball\n",
    "seconds_remaining = 60 # This is time remaining at the start of the possession\n",
    "pre_game_win_prob = 0.55 # 55% to win pregame\n",
    "\n",
    "url = f\"https://api.pbpstats.com/get-win-probability/{league}/{margin}/{pre_game_win_prob}/{seconds_remaining}\"\n",
    "\n",
    "response = requests.get(url)\n",
    "response_json = response.json()\n",
    "response_json"
   ]
  },
  {
   "cell_type": "code",
   "execution_count": null,
   "id": "7378d5ab-eb91-49fb-b7ee-9139e3d46c07",
   "metadata": {},
   "outputs": [],
   "source": []
  }
 ],
 "metadata": {
  "kernelspec": {
   "display_name": "playground",
   "language": "python",
   "name": "playground"
  },
  "language_info": {
   "codemirror_mode": {
    "name": "ipython",
    "version": 3
   },
   "file_extension": ".py",
   "mimetype": "text/x-python",
   "name": "python",
   "nbconvert_exporter": "python",
   "pygments_lexer": "ipython3",
   "version": "3.8.9"
  }
 },
 "nbformat": 4,
 "nbformat_minor": 5
}
