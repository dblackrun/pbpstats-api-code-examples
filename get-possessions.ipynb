{
 "cells": [
  {
   "cell_type": "markdown",
   "id": "65512eee-40df-49be-87f1-978e75e08890",
   "metadata": {},
   "source": [
    "This endpoint can be used to get stats and details for possessions that meet query parameters. If more than 500 possessions meet criteria, only 500 possessions will be returned.\n",
    "There is a lot of overlap with the get-wowy-stats endpoint so see those examples for more details on doing player and opponent on/off stuff"
   ]
  },
  {
   "cell_type": "code",
   "execution_count": 1,
   "id": "f570d66c-dacb-41a8-bf01-14d8ec45fd8a",
   "metadata": {},
   "outputs": [],
   "source": [
    "import requests"
   ]
  },
  {
   "cell_type": "markdown",
   "id": "0fe9668a-e260-446a-898c-334c52ccd696",
   "metadata": {},
   "source": [
    "### Hawks Very high leverage possessions with Trae Young on the floor"
   ]
  },
  {
   "cell_type": "code",
   "execution_count": 2,
   "id": "d153e9c3-4cb3-4823-9d58-b1f88c224cb5",
   "metadata": {},
   "outputs": [],
   "source": [
    "url = \"https://api.pbpstats.com/get-possessions/nba\"\n",
    "params = {\n",
    "    \"0Exactly1OnFloor\": \"1629027\", # format index(Exactly|GreaterThan|LessThan)number(OnFloor|OffFloor|PlayedInGame|DidNotPlayInGame|Started|CameOffBench)\n",
    "    \"TeamId\": \"1610612737\",\n",
    "    \"Season\": \"2021-22\",\n",
    "    \"SeasonType\": \"Regular Season\",\n",
    "    \"OffDef\": \"Offense\", # Offense or Defense\n",
    "    \"StartType\": \"All\", # see below for possible values for StartType\n",
    "    \"Leverage\": \"VeryHigh\"\n",
    "}\n",
    "response = requests.get(url, params=params)\n",
    "response_json = response.json()\n",
    "possessions = response_json[\"possessions\"]\n",
    "player_stats = response_json[\"player_results\"]\n",
    "team_stats = response_json[\"team_results\"]"
   ]
  },
  {
   "cell_type": "markdown",
   "id": "ba729220-6a5b-4156-b0c3-73379cff33af",
   "metadata": {},
   "source": [
    "#### possible values for StartType"
   ]
  },
  {
   "cell_type": "code",
   "execution_count": 3,
   "id": "e1d309d6-f5e6-4cbd-8850-fdbda0232d1c",
   "metadata": {},
   "outputs": [],
   "source": [
    "start_types = [\n",
    "    \"All\", # All\n",
    "    \"OffMissedFG\", # Off Any Missed FG\n",
    "    \"OffMissed2\", # Off Any Missed 2\n",
    "    \"OffMissed3\", # Off Any Missed 3\n",
    "    \"OffMadeFG\", # Off Any Made FG\n",
    "    \"OffMade2\", # Off Any Made 2\n",
    "    \"OffMade3\", # Off Any Made 3\n",
    "    \"OffAtRimMake\", # Off At Rim Make\n",
    "    \"OffAtRimMiss\", # Off At Rim Miss\n",
    "    \"OffAtRimBlock\", # Off At Rim Block\n",
    "    \"OffShortMidRangeMake\", # Off Short Mid-Range Make\n",
    "    \"OffShortMidRangeMiss\", # Off Short Mid-Range Miss\n",
    "    \"OffLongMidRangeMake\", # Off Long Mid-Range Make\n",
    "    \"OffLongMidRangeMiss\", # Off Long Mid-Range Miss\n",
    "    \"OffArc3Make\", # Off Arc 3 Make\n",
    "    \"OffArc3Miss\", # Off Arc 3 Miss\n",
    "    \"OffCorner3Make\", # Off Corner 3 Make\n",
    "    \"OffCorner3Miss\", # Off Corner 3 Miss\n",
    "    \"OffFTMake\", # Off FT Make\n",
    "    \"OffFTMiss\", # Off FT Miss\n",
    "    \"OffLiveBallTurnover\", # Off Steal\n",
    "    \"OffDeadball\", # Off Dead Ball\n",
    "    \"OffTimeout\", # Off Timeout\n",
    "]"
   ]
  },
  {
   "cell_type": "markdown",
   "id": "7915f194-4581-43e1-b3cb-ff2e92435d42",
   "metadata": {},
   "source": [
    "### Warriors 4th quarter possessions on which Steph Curry attempts a 3"
   ]
  },
  {
   "cell_type": "code",
   "execution_count": 4,
   "id": "1dfbd8ae-1011-453a-9c51-dd59d291e521",
   "metadata": {},
   "outputs": [],
   "source": [
    "url = \"https://api.pbpstats.com/get-possessions/nba\"\n",
    "params = {\n",
    "    \"TeamId\": \"1610612744\",\n",
    "    \"Season\": \"2021-22\",\n",
    "    \"SeasonType\": \"Regular Season\",\n",
    "    \"OffDef\": \"Offense\", # Offense or Defense\n",
    "    \"StartType\": \"All\",\n",
    "    \"Period\": \"4\",\n",
    "    \"EventType\": \"FG3A\", # options are FG3A, FG2A and Oreb\n",
    "    \"EventPlayerId\": \"201939\"\n",
    "}\n",
    "response = requests.get(url, params=params)\n",
    "response_json = response.json()\n",
    "possessions = response_json[\"possessions\"]\n",
    "player_stats = response_json[\"player_results\"]\n",
    "team_stats = response_json[\"team_results\"]"
   ]
  },
  {
   "cell_type": "markdown",
   "id": "9faf46d8-a29c-4a60-a473-45c5e6d925e4",
   "metadata": {},
   "source": [
    "### Warriors offensive possessions following a Steph Curry defensive rebound"
   ]
  },
  {
   "cell_type": "code",
   "execution_count": 5,
   "id": "75acfc12-1910-4df5-ad43-8c1d8df25032",
   "metadata": {},
   "outputs": [],
   "source": [
    "url = \"https://api.pbpstats.com/get-possessions/nba\"\n",
    "params = {\n",
    "    \"TeamId\": \"1610612744\",\n",
    "    \"Season\": \"2021-22\",\n",
    "    \"SeasonType\": \"Regular Season\",\n",
    "    \"OffDef\": \"Offense\", # Offense or Defense\n",
    "    \"StartType\": \"OffMissedFG\",\n",
    "    \"ReboundPlayerId\": \"201939\"\n",
    "}\n",
    "response = requests.get(url, params=params)\n",
    "response_json = response.json()\n",
    "possessions = response_json[\"possessions\"]\n",
    "player_stats = response_json[\"player_results\"]\n",
    "team_stats = response_json[\"team_results\"]"
   ]
  },
  {
   "cell_type": "markdown",
   "id": "2e27ef5d-5a39-4ee1-ab58-e92007650cb7",
   "metadata": {},
   "source": [
    "### Warriors defensive possessions following a Steph Curry missed 3"
   ]
  },
  {
   "cell_type": "code",
   "execution_count": 6,
   "id": "13396066-4d98-4ea1-a6c4-63375ca6382a",
   "metadata": {},
   "outputs": [],
   "source": [
    "url = \"https://api.pbpstats.com/get-possessions/nba\"\n",
    "params = {\n",
    "    \"TeamId\": \"1610612744\",\n",
    "    \"Season\": \"2021-22\",\n",
    "    \"SeasonType\": \"Regular Season\",\n",
    "    \"OffDef\": \"Defense\", # Offense or Defense\n",
    "    \"StartType\": \"OffMissed3\",\n",
    "    \"ShooterPlayerId\": \"201939\"\n",
    "}\n",
    "response = requests.get(url, params=params)\n",
    "response_json = response.json()\n",
    "possessions = response_json[\"possessions\"]\n",
    "player_stats = response_json[\"player_results\"]\n",
    "team_stats = response_json[\"team_results\"]"
   ]
  },
  {
   "cell_type": "markdown",
   "id": "4883e3c0-ea3a-4aaa-b36c-96e7e50b52d8",
   "metadata": {},
   "source": [
    "### Warriors 4th quarter and overtime possessions when down by 3 or less with the possession starting with less than 20 seconds remaining"
   ]
  },
  {
   "cell_type": "code",
   "execution_count": 7,
   "id": "226ab240-4639-485a-8429-f3bb0b66c6f9",
   "metadata": {},
   "outputs": [],
   "source": [
    "url = \"https://api.pbpstats.com/get-possessions/nba\"\n",
    "params = {\n",
    "    \"TeamId\": \"1610612744\",\n",
    "    \"Season\": \"2021-22\",\n",
    "    \"SeasonType\": \"Regular Season\",\n",
    "    \"OffDef\": \"Offense\", # Offense or Defense\n",
    "    \"StartType\": \"All\",\n",
    "    \"FromMargin\": -3,\n",
    "    \"ToMargin\": -1,\n",
    "    \"FromTime\": 20, # in seconds remaining in the period at possession start\n",
    "    \"ToTime\": 0, # in seconds remaining in the period at possession start\n",
    "    \"Period\": \"4_OT\"\n",
    "}\n",
    "response = requests.get(url, params=params)\n",
    "response_json = response.json()\n",
    "possessions = response_json[\"possessions\"]\n",
    "player_stats = response_json[\"player_results\"]\n",
    "team_stats = response_json[\"team_results\"]"
   ]
  },
  {
   "cell_type": "code",
   "execution_count": null,
   "id": "ff383f3b-b548-4ea8-b7ee-a19628db901c",
   "metadata": {},
   "outputs": [],
   "source": []
  }
 ],
 "metadata": {
  "kernelspec": {
   "display_name": "playground",
   "language": "python",
   "name": "playground"
  },
  "language_info": {
   "codemirror_mode": {
    "name": "ipython",
    "version": 3
   },
   "file_extension": ".py",
   "mimetype": "text/x-python",
   "name": "python",
   "nbconvert_exporter": "python",
   "pygments_lexer": "ipython3",
   "version": "3.8.9"
  }
 },
 "nbformat": 4,
 "nbformat_minor": 5
}
