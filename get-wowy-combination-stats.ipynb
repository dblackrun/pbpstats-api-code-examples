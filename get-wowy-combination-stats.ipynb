{
 "cells": [
  {
   "cell_type": "markdown",
   "id": "ae473661-edf2-4690-ade9-4becae4c3e37",
   "metadata": {},
   "source": [
    "This endpoint can be used to get efficiency for all on/off combinations of selected players"
   ]
  },
  {
   "cell_type": "code",
   "execution_count": 1,
   "id": "7b6b87cd-50bc-463f-8aaa-dc982e2d76a4",
   "metadata": {},
   "outputs": [],
   "source": [
    "import requests"
   ]
  },
  {
   "cell_type": "markdown",
   "id": "49050433-c472-4504-aee9-c04e8a974f91",
   "metadata": {},
   "source": [
    "### Sixers for James Harden and Joel Embiid in games both of them played"
   ]
  },
  {
   "cell_type": "code",
   "execution_count": 2,
   "id": "821f8532-566f-4dd1-b506-24851bf24b2f",
   "metadata": {},
   "outputs": [
    {
     "data": {
      "text/plain": [
       "[{'OffRtg': 120.625,\n",
       "  'DefRtg': 115.5688622754491,\n",
       "  'NetRtg': 5.056137724550894,\n",
       "  'Minutes': 78.0,\n",
       "  'On': '',\n",
       "  'Off': 'James Harden, Joel Embiid',\n",
       "  'TeamWowyQueryParams': {'Season': '2021-22',\n",
       "   'SeasonType': 'Regular Season',\n",
       "   'TeamId': '1610612755',\n",
       "   'Type': 'Team',\n",
       "   '0Exactly2OffFloor': '201935,203954',\n",
       "   '1Exactly2PlayedInGame': '201935,203954'},\n",
       "  'OpponentWowyQueryParams': {'Season': '2021-22',\n",
       "   'SeasonType': 'Regular Season',\n",
       "   'TeamId': '1610612755',\n",
       "   'Type': 'Opponent',\n",
       "   '0Exactly2OffFloor': '201935,203954',\n",
       "   '1Exactly2PlayedInGame': '201935,203954'},\n",
       "  'RowId': 'On:',\n",
       "  'Fg3Pct': 0.4,\n",
       "  'Fg2Pct': 0.5494505494505495,\n",
       "  'OppFg3Pct': 0.2857142857142857,\n",
       "  'OppFg2Pct': 0.6},\n",
       " {'OffRtg': 114.69816272965879,\n",
       "  'DefRtg': 125.6544502617801,\n",
       "  'NetRtg': -10.956287532121308,\n",
       "  'Minutes': 189.0,\n",
       "  'On': 'James Harden',\n",
       "  'Off': 'Joel Embiid',\n",
       "  'TeamWowyQueryParams': {'Season': '2021-22',\n",
       "   'SeasonType': 'Regular Season',\n",
       "   'TeamId': '1610612755',\n",
       "   'Type': 'Team',\n",
       "   '0Exactly1OnFloor': '201935',\n",
       "   '1Exactly1OffFloor': '203954',\n",
       "   '2Exactly2PlayedInGame': '201935,203954'},\n",
       "  'OpponentWowyQueryParams': {'Season': '2021-22',\n",
       "   'SeasonType': 'Regular Season',\n",
       "   'TeamId': '1610612755',\n",
       "   'Type': 'Opponent',\n",
       "   '0Exactly1OnFloor': '201935',\n",
       "   '1Exactly1OffFloor': '203954',\n",
       "   '2Exactly2PlayedInGame': '201935,203954'},\n",
       "  'RowId': 'On:201935',\n",
       "  'Fg3Pct': 0.36666666666666664,\n",
       "  'Fg2Pct': 0.47191011235955055,\n",
       "  'OppFg3Pct': 0.4142857142857143,\n",
       "  'OppFg2Pct': 0.6216216216216216},\n",
       " {'OffRtg': 107.0945945945946,\n",
       "  'DefRtg': 121.05263157894737,\n",
       "  'NetRtg': -13.958036984352773,\n",
       "  'Minutes': 142.0,\n",
       "  'On': 'Joel Embiid',\n",
       "  'Off': 'James Harden',\n",
       "  'TeamWowyQueryParams': {'Season': '2021-22',\n",
       "   'SeasonType': 'Regular Season',\n",
       "   'TeamId': '1610612755',\n",
       "   'Type': 'Team',\n",
       "   '0Exactly1OnFloor': '203954',\n",
       "   '1Exactly1OffFloor': '201935',\n",
       "   '2Exactly2PlayedInGame': '203954,201935'},\n",
       "  'OpponentWowyQueryParams': {'Season': '2021-22',\n",
       "   'SeasonType': 'Regular Season',\n",
       "   'TeamId': '1610612755',\n",
       "   'Type': 'Opponent',\n",
       "   '0Exactly1OnFloor': '203954',\n",
       "   '1Exactly1OffFloor': '201935',\n",
       "   '2Exactly2PlayedInGame': '203954,201935'},\n",
       "  'RowId': 'On:203954',\n",
       "  'Fg3Pct': 0.45,\n",
       "  'Fg2Pct': 0.4153846153846154,\n",
       "  'OppFg3Pct': 0.35106382978723405,\n",
       "  'OppFg2Pct': 0.573170731707317},\n",
       " {'OffRtg': 125.74503311258277,\n",
       "  'DefRtg': 109.1358024691358,\n",
       "  'NetRtg': 16.609230643446978,\n",
       "  'Minutes': 603.0,\n",
       "  'On': 'James Harden, Joel Embiid',\n",
       "  'Off': '',\n",
       "  'TeamWowyQueryParams': {'Season': '2021-22',\n",
       "   'SeasonType': 'Regular Season',\n",
       "   'TeamId': '1610612755',\n",
       "   'Type': 'Team',\n",
       "   '0Exactly2OnFloor': '201935,203954',\n",
       "   '1Exactly2PlayedInGame': '201935,203954'},\n",
       "  'OpponentWowyQueryParams': {'Season': '2021-22',\n",
       "   'SeasonType': 'Regular Season',\n",
       "   'TeamId': '1610612755',\n",
       "   'Type': 'Opponent',\n",
       "   '0Exactly2OnFloor': '201935,203954',\n",
       "   '1Exactly2PlayedInGame': '201935,203954'},\n",
       "  'RowId': 'On:201935,203954',\n",
       "  'Fg3Pct': 0.4043583535108959,\n",
       "  'Fg2Pct': 0.5705024311183144,\n",
       "  'OppFg3Pct': 0.3584905660377358,\n",
       "  'OppFg2Pct': 0.5084033613445378}]"
      ]
     },
     "execution_count": 2,
     "metadata": {},
     "output_type": "execute_result"
    }
   ],
   "source": [
    "wowy_url = \"https://api.pbpstats.com/get-wowy-combination-stats/nba\"\n",
    "wowy_params = {\n",
    "    \"TeamId\": \"1610612755\", # Sixers\n",
    "    \"Season\": \"2021-22\",\n",
    "    \"SeasonType\": \"Regular Season\",\n",
    "    \"PlayerIds\": \"201935,203954\", # comma separated player ids - Harden and Embiid\n",
    "    \"OnlyCommonGames\": \"true\" # Only stats for games in which both Harden and Embiid played\n",
    "}\n",
    "wowy_response = requests.get(wowy_url, params=wowy_params)\n",
    "wowy = wowy_response.json()\n",
    "wowy[\"results\"]"
   ]
  },
  {
   "cell_type": "markdown",
   "id": "ce89de19-b14e-4c86-8ba4-aa5a53630678",
   "metadata": {},
   "source": [
    "### Nikola Jokic with low leverage minutes excluded"
   ]
  },
  {
   "cell_type": "code",
   "execution_count": 3,
   "id": "ef74ea5e-6ecc-47de-8303-b8582eb43483",
   "metadata": {},
   "outputs": [
    {
     "data": {
      "text/plain": [
       "[{'OffRtg': 109.00683554483314,\n",
       "  'DefRtg': 116.36146496815287,\n",
       "  'NetRtg': -7.354629423319736,\n",
       "  'Minutes': 1251.0,\n",
       "  'On': '',\n",
       "  'Off': 'Nikola Jokic',\n",
       "  'TeamWowyQueryParams': {'Season': '2021-22',\n",
       "   'SeasonType': 'Regular Season',\n",
       "   'TeamId': '1610612743',\n",
       "   'Type': 'Team',\n",
       "   '0Exactly1OffFloor': '203999'},\n",
       "  'OpponentWowyQueryParams': {'Season': '2021-22',\n",
       "   'SeasonType': 'Regular Season',\n",
       "   'TeamId': '1610612743',\n",
       "   'Type': 'Opponent',\n",
       "   '0Exactly1OffFloor': '203999'},\n",
       "  'RowId': 'On:',\n",
       "  'Fg3Pct': 0.3525390625,\n",
       "  'Fg2Pct': 0.5091362126245847,\n",
       "  'OppFg3Pct': 0.3534090909090909,\n",
       "  'OppFg2Pct': 0.5681639085894405},\n",
       " {'OffRtg': 119.63835155592935,\n",
       "  'DefRtg': 110.11615628299894,\n",
       "  'NetRtg': 9.522195272930404,\n",
       "  'Minutes': 2330.0,\n",
       "  'On': 'Nikola Jokic',\n",
       "  'Off': '',\n",
       "  'TeamWowyQueryParams': {'Season': '2021-22',\n",
       "   'SeasonType': 'Regular Season',\n",
       "   'TeamId': '1610612743',\n",
       "   'Type': 'Team',\n",
       "   '0Exactly1OnFloor': '203999'},\n",
       "  'OpponentWowyQueryParams': {'Season': '2021-22',\n",
       "   'SeasonType': 'Regular Season',\n",
       "   'TeamId': '1610612743',\n",
       "   'Type': 'Opponent',\n",
       "   '0Exactly1OnFloor': '203999'},\n",
       "  'RowId': 'On:203999',\n",
       "  'Fg3Pct': 0.360377358490566,\n",
       "  'Fg2Pct': 0.6059793024147183,\n",
       "  'OppFg3Pct': 0.33741579914268216,\n",
       "  'OppFg2Pct': 0.5377254324622746}]"
      ]
     },
     "execution_count": 3,
     "metadata": {},
     "output_type": "execute_result"
    }
   ],
   "source": [
    "wowy_url = \"https://api.pbpstats.com/get-wowy-combination-stats/nba\"\n",
    "wowy_params = {\n",
    "    \"TeamId\": \"1610612743\", # Nuggets\n",
    "    \"Season\": \"2021-22\",\n",
    "    \"SeasonType\": \"Regular Season\",\n",
    "    \"PlayerIds\": \"203999\", # Jokic\n",
    "    \"Leverage\": \"Medium,High,VeryHigh\" # comma separated leverages\n",
    "}\n",
    "wowy_response = requests.get(wowy_url, params=wowy_params)\n",
    "wowy = wowy_response.json()\n",
    "wowy[\"results\"]"
   ]
  },
  {
   "cell_type": "markdown",
   "id": "8bccb2bf-835c-470e-814f-064a41727134",
   "metadata": {},
   "source": [
    "### 2021 Candace Parker"
   ]
  },
  {
   "cell_type": "code",
   "execution_count": 4,
   "id": "6e8e4129-a42f-4e9d-930a-05ad919ca561",
   "metadata": {},
   "outputs": [
    {
     "data": {
      "text/plain": [
       "[{'OffRtg': 101.53508771929825,\n",
       "  'DefRtg': 101.82348650619986,\n",
       "  'NetRtg': -0.2883987869016096,\n",
       "  'Minutes': 685.0,\n",
       "  'On': '',\n",
       "  'Off': 'Candace Parker',\n",
       "  'TeamWowyQueryParams': {'Season': '2021',\n",
       "   'SeasonType': 'Regular Season',\n",
       "   'TeamId': '1611661329',\n",
       "   'Type': 'Team',\n",
       "   '0Exactly1OffFloor': '201496'},\n",
       "  'OpponentWowyQueryParams': {'Season': '2021',\n",
       "   'SeasonType': 'Regular Season',\n",
       "   'TeamId': '1611661329',\n",
       "   'Type': 'Opponent',\n",
       "   '0Exactly1OffFloor': '201496'},\n",
       "  'RowId': 'On:',\n",
       "  'Fg3Pct': 0.35942028985507246,\n",
       "  'Fg2Pct': 0.4600484261501211,\n",
       "  'OppFg3Pct': 0.3639344262295082,\n",
       "  'OppFg2Pct': 0.46878680800942285},\n",
       " {'OffRtg': 103.322528363047,\n",
       "  'DefRtg': 99.43227899432279,\n",
       "  'NetRtg': 3.890249368724213,\n",
       "  'Minutes': 605.0,\n",
       "  'On': 'Candace Parker',\n",
       "  'Off': '',\n",
       "  'TeamWowyQueryParams': {'Season': '2021',\n",
       "   'SeasonType': 'Regular Season',\n",
       "   'TeamId': '1611661329',\n",
       "   'Type': 'Team',\n",
       "   '0Exactly1OnFloor': '201496'},\n",
       "  'OpponentWowyQueryParams': {'Season': '2021',\n",
       "   'SeasonType': 'Regular Season',\n",
       "   'TeamId': '1611661329',\n",
       "   'Type': 'Opponent',\n",
       "   '0Exactly1OnFloor': '201496'},\n",
       "  'RowId': 'On:201496',\n",
       "  'Fg3Pct': 0.3263473053892216,\n",
       "  'Fg2Pct': 0.5102599179206566,\n",
       "  'OppFg3Pct': 0.339041095890411,\n",
       "  'OppFg2Pct': 0.45580808080808083}]"
      ]
     },
     "execution_count": 4,
     "metadata": {},
     "output_type": "execute_result"
    }
   ],
   "source": [
    "wowy_url = \"https://api.pbpstats.com/get-wowy-combination-stats/wnba\"\n",
    "wowy_params = {\n",
    "    \"TeamId\": \"1611661329\", # Chicago\n",
    "    \"Season\": \"2021\",\n",
    "    \"SeasonType\": \"Regular Season\",\n",
    "    \"PlayerIds\": \"201496\" # Candace Parker\n",
    "}\n",
    "wowy_response = requests.get(wowy_url, params=wowy_params)\n",
    "wowy = wowy_response.json()\n",
    "wowy[\"results\"]"
   ]
  },
  {
   "cell_type": "code",
   "execution_count": null,
   "id": "50c41b1f-1889-47e2-ba39-a9e75876dc03",
   "metadata": {},
   "outputs": [],
   "source": []
  }
 ],
 "metadata": {
  "kernelspec": {
   "display_name": "playground",
   "language": "python",
   "name": "playground"
  },
  "language_info": {
   "codemirror_mode": {
    "name": "ipython",
    "version": 3
   },
   "file_extension": ".py",
   "mimetype": "text/x-python",
   "name": "python",
   "nbconvert_exporter": "python",
   "pygments_lexer": "ipython3",
   "version": "3.8.9"
  }
 },
 "nbformat": 4,
 "nbformat_minor": 5
}
