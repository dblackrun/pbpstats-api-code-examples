{
 "cells": [
  {
   "cell_type": "markdown",
   "id": "8d71414e-cfcc-452d-ab37-2d8b9c0626c0",
   "metadata": {},
   "source": [
    "This endpoint can be used to get player stats when a specific lineup is on the floor"
   ]
  },
  {
   "cell_type": "code",
   "execution_count": 1,
   "id": "9500d34c-885f-451b-b920-32f24a7bb1b3",
   "metadata": {},
   "outputs": [],
   "source": [
    "import requests"
   ]
  },
  {
   "cell_type": "markdown",
   "id": "21901369-4404-43eb-a8f5-4289508166ac",
   "metadata": {},
   "source": [
    "### Al Horford, Marcus Smart, Jaylen Brown, Jayson Tatum, Robert Williams III"
   ]
  },
  {
   "cell_type": "code",
   "execution_count": 2,
   "id": "7853d472-79c4-4612-8244-871519b82a66",
   "metadata": {},
   "outputs": [],
   "source": [
    "url = \"https://api.pbpstats.com/get-lineup-player-stats/nba\"\n",
    "params = {\n",
    "    \"LineupId\": \"1627759-1628369-1629057-201143-203935\", # lineup ids are hyphen separated player ids sorted as strings\n",
    "    \"Season\": \"2021-22\",\n",
    "    \"SeasonType\": \"Regular Season\"\n",
    "}\n",
    "response = requests.get(url, params=params)\n",
    "response_json = response.json()\n",
    "lineup_stats = response_json['single_row_table_data']\n",
    "player_stats = response_json['multi_row_table_data']"
   ]
  },
  {
   "cell_type": "markdown",
   "id": "d57e866d-7aa5-4c63-b315-04ee59744054",
   "metadata": {},
   "source": [
    "### Chelsea Gray, Dearica Hamby, Kelsey Plum, A'ja Wilson, Jackie Young"
   ]
  },
  {
   "cell_type": "code",
   "execution_count": 3,
   "id": "f6b15960-9f55-405b-acb8-bbf46e255333",
   "metadata": {},
   "outputs": [],
   "source": [
    "url = \"https://api.pbpstats.com/get-lineup-player-stats/wnba\"\n",
    "params = {\n",
    "    \"LineupId\": \"1628276-1628932-1629498-203833-204324\", # lineup ids are hyphen separated player ids sorted as strings\n",
    "    \"Season\": \"2022\",\n",
    "    \"SeasonType\": \"Regular Season\"\n",
    "}\n",
    "response = requests.get(url, params=params)\n",
    "response_json = response.json()\n",
    "lineup_stats = response_json['single_row_table_data']\n",
    "player_stats = response_json['multi_row_table_data']"
   ]
  },
  {
   "cell_type": "code",
   "execution_count": null,
   "id": "368d3495-d9c4-4029-9f7d-0b92766fb5e9",
   "metadata": {},
   "outputs": [],
   "source": []
  }
 ],
 "metadata": {
  "kernelspec": {
   "display_name": "playground",
   "language": "python",
   "name": "playground"
  },
  "language_info": {
   "codemirror_mode": {
    "name": "ipython",
    "version": 3
   },
   "file_extension": ".py",
   "mimetype": "text/x-python",
   "name": "python",
   "nbconvert_exporter": "python",
   "pygments_lexer": "ipython3",
   "version": "3.8.9"
  }
 },
 "nbformat": 4,
 "nbformat_minor": 5
}
